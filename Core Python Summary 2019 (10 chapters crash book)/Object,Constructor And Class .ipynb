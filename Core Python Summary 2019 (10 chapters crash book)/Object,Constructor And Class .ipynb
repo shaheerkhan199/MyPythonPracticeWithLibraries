{
 "cells": [
  {
   "cell_type": "code",
   "execution_count": 6,
   "metadata": {},
   "outputs": [],
   "source": [
    "# Class -> done\n",
    "# Constructor -> done\n",
    "# Method -> done\n",
    "# Object -> done\n",
    "# Inheritance  -> done\n",
    "# Abstraction\n",
    "# Encapsulation (Access Modifiers) -> done\n",
    "# Polymorphism\n",
    "# Static variable/class varible -> done\n",
    "# Operator Overloading and Method Overriding -> done"
   ]
  },
  {
   "cell_type": "markdown",
   "metadata": {},
   "source": [
    "# Simple Class, Method, Constructor and Object example"
   ]
  },
  {
   "cell_type": "code",
   "execution_count": 19,
   "metadata": {},
   "outputs": [],
   "source": [
    "class Car():\n",
    "    def __init__(self,name): #This is Constructor\n",
    "        self.name = name\n",
    "    def running(self):\n",
    "        print(\"car is running\")\n",
    "    \n",
    "    def stop(self):\n",
    "        print(\"car is now stop\")\n",
    "        \n",
    "    def printNameOfCar(self):\n",
    "        print(self.name)\n",
    "             \n",
    "#             int a;\n",
    "#             public function Car(int name)\n",
    "#             {\n",
    "#                 this.a = name;\n",
    "#             }"
   ]
  },
  {
   "cell_type": "code",
   "execution_count": 20,
   "metadata": {},
   "outputs": [
    {
     "name": "stdout",
     "output_type": "stream",
     "text": [
      "car is running\n"
     ]
    }
   ],
   "source": [
    "c = Car(\"Land Cruiser\") #This is Object\n",
    "c.running()"
   ]
  },
  {
   "cell_type": "code",
   "execution_count": 21,
   "metadata": {},
   "outputs": [
    {
     "name": "stdout",
     "output_type": "stream",
     "text": [
      "car is now stop\n"
     ]
    }
   ],
   "source": [
    "c.stop()"
   ]
  },
  {
   "cell_type": "code",
   "execution_count": 22,
   "metadata": {},
   "outputs": [
    {
     "name": "stdout",
     "output_type": "stream",
     "text": [
      "Land Cruiser\n"
     ]
    }
   ],
   "source": [
    "c.printNameOfCar()"
   ]
  },
  {
   "cell_type": "code",
   "execution_count": 3,
   "metadata": {},
   "outputs": [],
   "source": [
    "# Person Class\n",
    "from datetime import datetime\n",
    "class Person():\n",
    "    def __init__(self,firstName,lastName,dob,email,city):\n",
    "        # These are all instance variable every object can get the copy of its own instance variable\n",
    "        self.firstName = firstName\n",
    "        self.lastName = lastName\n",
    "        self.dob = dob\n",
    "        self.email = email\n",
    "        self.city = city\n",
    "        \n",
    "    def getFullName(self):\n",
    "        fullName = self.firstName+\" \"+self.lastName\n",
    "        return fullName.title()\n",
    "    \n",
    "    def getFullDetails(self):\n",
    "        print(self.getFullName())\n",
    "        print(self.dob)\n",
    "        print(self.email)\n",
    "        print(self.city)\n",
    "        "
   ]
  },
  {
   "cell_type": "code",
   "execution_count": 4,
   "metadata": {},
   "outputs": [],
   "source": [
    "p = Person(\"M.Shaheer\",\"khan\",\"4/2/1998\",\"m.shaheerkhan199@gmail.com\",\"Karachi\")"
   ]
  },
  {
   "cell_type": "code",
   "execution_count": 5,
   "metadata": {},
   "outputs": [
    {
     "name": "stdout",
     "output_type": "stream",
     "text": [
      "M.Shaheer Khan\n"
     ]
    }
   ],
   "source": [
    "print(p.getFullName())"
   ]
  },
  {
   "cell_type": "code",
   "execution_count": 6,
   "metadata": {},
   "outputs": [
    {
     "name": "stdout",
     "output_type": "stream",
     "text": [
      "M.Shaheer Khan\n",
      "4/2/1998\n",
      "m.shaheerkhan199@gmail.com\n",
      "Karachi\n"
     ]
    }
   ],
   "source": [
    "p.getFullDetails()"
   ]
  },
  {
   "cell_type": "markdown",
   "metadata": {},
   "source": [
    "# Example of Inheritance"
   ]
  },
  {
   "cell_type": "code",
   "execution_count": 7,
   "metadata": {},
   "outputs": [],
   "source": [
    "class Bike():\n",
    "    def __init__(self,name,model,color):\n",
    "        self.name = name\n",
    "        self.model = model\n",
    "        self.color = color\n",
    "        self.odometerReading = 0\n",
    "    \n",
    "    def getBikeDetails(self):\n",
    "        print(self.name)\n",
    "        print(self.model)\n",
    "        print(self.color)\n",
    "        print(\"This car has \" + str(self.odometerReading) + \" miles on it.\")\n",
    "    \n",
    "    def updateOdometer(self,miles):\n",
    "        self.odometerReading += miles\n",
    "    \n",
    "    def run(self):\n",
    "        print(self.name + \" is running\")\n",
    "    \n",
    "    def stop(self):\n",
    "        print(self.name + \" is now stop\")\n",
    "    \n",
    "        "
   ]
  },
  {
   "cell_type": "code",
   "execution_count": 8,
   "metadata": {},
   "outputs": [],
   "source": [
    "b = Bike(\"Unique\",\"2015\",\"black\")"
   ]
  },
  {
   "cell_type": "code",
   "execution_count": 9,
   "metadata": {},
   "outputs": [
    {
     "name": "stdout",
     "output_type": "stream",
     "text": [
      "Unique\n",
      "2015\n",
      "black\n",
      "This car has 0 miles on it.\n"
     ]
    }
   ],
   "source": [
    "b.getBikeDetails()"
   ]
  },
  {
   "cell_type": "code",
   "execution_count": 10,
   "metadata": {},
   "outputs": [
    {
     "name": "stdout",
     "output_type": "stream",
     "text": [
      "Unique is running\n"
     ]
    }
   ],
   "source": [
    "b.run()"
   ]
  },
  {
   "cell_type": "code",
   "execution_count": 11,
   "metadata": {},
   "outputs": [],
   "source": [
    "b.updateOdometer(2500)"
   ]
  },
  {
   "cell_type": "code",
   "execution_count": 12,
   "metadata": {},
   "outputs": [
    {
     "name": "stdout",
     "output_type": "stream",
     "text": [
      "Unique is now stop\n"
     ]
    }
   ],
   "source": [
    "b.stop()"
   ]
  },
  {
   "cell_type": "code",
   "execution_count": 13,
   "metadata": {},
   "outputs": [
    {
     "name": "stdout",
     "output_type": "stream",
     "text": [
      "Unique\n",
      "2015\n",
      "black\n",
      "This car has 2500 miles on it.\n"
     ]
    }
   ],
   "source": [
    "b.getBikeDetails()"
   ]
  },
  {
   "cell_type": "code",
   "execution_count": 14,
   "metadata": {},
   "outputs": [],
   "source": [
    "# Example of simple inheritance\n",
    "class Sport_Bike(Bike):\n",
    "    def __init__(self,name,model,color,maxSpeed):\n",
    "        self.maxSpeed = maxSpeed\n",
    "        super().__init__(name,model,color)\n",
    "    def onTurbo():\n",
    "        print(self.name+\" is running in turbo mode\")"
   ]
  },
  {
   "cell_type": "code",
   "execution_count": 16,
   "metadata": {},
   "outputs": [],
   "source": [
    "sp = Sport_Bike(\"Davidson\",\"1998\",\"Black\",350)"
   ]
  },
  {
   "cell_type": "code",
   "execution_count": 17,
   "metadata": {},
   "outputs": [
    {
     "name": "stdout",
     "output_type": "stream",
     "text": [
      "Davidson\n",
      "1998\n",
      "Black\n",
      "This car has 0 miles on it.\n"
     ]
    }
   ],
   "source": [
    "sp.getBikeDetails()"
   ]
  },
  {
   "cell_type": "markdown",
   "metadata": {},
   "source": [
    "# Multiple Inheritance"
   ]
  },
  {
   "cell_type": "code",
   "execution_count": 18,
   "metadata": {},
   "outputs": [],
   "source": [
    "#Exmple of Multiple Inheritance\n",
    "class Base1:\n",
    "    def print_from_base1(self):\n",
    "        print(\"This is from base1\")\n",
    "class Base2:\n",
    "    def print_from_base2(self):\n",
    "        print(\"This is from base2\")\n",
    "class MultiDerived(Base1,Base2):\n",
    "    def print_from_multiderived(self):\n",
    "        print(\"This is from multiderived\")"
   ]
  },
  {
   "cell_type": "code",
   "execution_count": 19,
   "metadata": {},
   "outputs": [
    {
     "name": "stdout",
     "output_type": "stream",
     "text": [
      "This is from base1\n"
     ]
    }
   ],
   "source": [
    "obj = MultiDerived()\n",
    "obj.print_from_base1()"
   ]
  },
  {
   "cell_type": "code",
   "execution_count": 20,
   "metadata": {},
   "outputs": [
    {
     "name": "stdout",
     "output_type": "stream",
     "text": [
      "This is from base2\n"
     ]
    }
   ],
   "source": [
    "obj.print_from_base2()"
   ]
  },
  {
   "cell_type": "code",
   "execution_count": 21,
   "metadata": {},
   "outputs": [
    {
     "name": "stdout",
     "output_type": "stream",
     "text": [
      "This is from multiderived\n"
     ]
    }
   ],
   "source": [
    "obj.print_from_multiderived()"
   ]
  },
  {
   "cell_type": "markdown",
   "metadata": {},
   "source": [
    "# Example of Abstraction and abstract classes"
   ]
  },
  {
   "cell_type": "code",
   "execution_count": 7,
   "metadata": {},
   "outputs": [],
   "source": [
    "# This is the example of Abstract Classes \n",
    "#  ABC =  Abstract Base Class\n",
    "# abc is module and ABC is the python builtin class using for abstraction\n",
    "#  @abstractmethod is the decorator\n",
    "from abc import ABC,abstractmethod\n",
    "class BankAccount(ABC):\n",
    "    def __init__():\n",
    "        pass\n",
    "    @abstractmethod\n",
    "    def payment(self):\n",
    "        pass"
   ]
  },
  {
   "cell_type": "code",
   "execution_count": 14,
   "metadata": {},
   "outputs": [],
   "source": [
    "class SavingAccount(BankAccount):\n",
    "    def __init__(self,user_name):\n",
    "        self.user_name = user_name\n",
    "        pass\n",
    "    def payment(self):\n",
    "        print(\"Payment from saving account\")\n",
    "    def greet_user(self):\n",
    "        print(self.user_name)"
   ]
  },
  {
   "cell_type": "code",
   "execution_count": 16,
   "metadata": {},
   "outputs": [
    {
     "name": "stdout",
     "output_type": "stream",
     "text": [
      "Payment from saving account\n"
     ]
    }
   ],
   "source": [
    "account = SavingAccount(\"Shaheer\")\n",
    "account.payment()"
   ]
  },
  {
   "cell_type": "markdown",
   "metadata": {},
   "source": [
    "# Example of Encapsulation (access Modifier)"
   ]
  },
  {
   "cell_type": "code",
   "execution_count": 47,
   "metadata": {},
   "outputs": [
    {
     "name": "stdout",
     "output_type": "stream",
     "text": [
      "Name is : Ali\n",
      "CNIC is : 42201-6302376-7\n",
      "City is : karachi\n",
      "Salary is:  45000\n"
     ]
    }
   ],
   "source": [
    "class Customer:\n",
    "    # In this class we deine two private variable (cnic and salary) double underscore \n",
    "    # is use to make any variable or method private. Private varibale cannot be modify directly.\n",
    "    # we cannot get or set private variables directly.\n",
    "    def __init__(self,name,cnic,city,salary):\n",
    "        self.name = name\n",
    "        self.__cnic = cnic\n",
    "        self.city = city\n",
    "        self.__salary = salary\n",
    "    def print_details_of_customer(self):\n",
    "        print(\"Name is :\", self.name)\n",
    "        print(\"CNIC is :\", self.__cnic)\n",
    "        print(\"City is :\", self.city)\n",
    "        print(\"Salary is: \", self.__salary)\n",
    "    def get_salary(self):\n",
    "        return self.__salary\n",
    "    def set_salary(self, newSalary):\n",
    "        self.__salary = newSalary\n",
    "c = Customer(\"Ali\",\"42201-6302376-7\",\"karachi\",45000)\n",
    "c.print_details_of_customer()"
   ]
  },
  {
   "cell_type": "code",
   "execution_count": 48,
   "metadata": {},
   "outputs": [
    {
     "name": "stdout",
     "output_type": "stream",
     "text": [
      "45000\n",
      "45000\n"
     ]
    }
   ],
   "source": [
    "print(c.get_salary())\n",
    "c.__salary = 50000 # in this line we are trying to modify private variable\n",
    "print(c.get_salary()) # but the value doesn't change\n",
    "# Now we add method method to set (modify) the value of private variale"
   ]
  },
  {
   "cell_type": "code",
   "execution_count": 49,
   "metadata": {},
   "outputs": [
    {
     "name": "stdout",
     "output_type": "stream",
     "text": [
      "70000\n"
     ]
    }
   ],
   "source": [
    "c.set_salary(70000)\n",
    "print(c.get_salary()) # now the value is modified"
   ]
  },
  {
   "cell_type": "markdown",
   "metadata": {},
   "source": [
    "# class variable or static variable\n"
   ]
  },
  {
   "cell_type": "code",
   "execution_count": 12,
   "metadata": {},
   "outputs": [
    {
     "name": "stdout",
     "output_type": "stream",
     "text": [
      "Parrot name is Ring neck and its color is Grey\n",
      "bird\n",
      "bird\n",
      "bird\n",
      "<__main__.Parrot object at 0x00000000057AE390>\n",
      "<class '__main__.Parrot'>\n"
     ]
    }
   ],
   "source": [
    "class Parrot:\n",
    "    # static varibale is shared among all instances of class.\n",
    "    species = \"bird\"\n",
    "    def __init__(self, name, color):\n",
    "        self.name = name\n",
    "        self.color = color\n",
    "    def describe(self):\n",
    "        print(\"Parrot name is {} and its color is {}\".format(self.name, self.color))\n",
    "parr1 = Parrot(\"Ring neck\", \"Grey\")\n",
    "parr2 = Parrot(\"Love Bird\", \"Green\")\n",
    "parr1.describe()\n",
    "# We can access static varible by these ways\n",
    "print(parr1.species)\n",
    "print(Parrot.species)\n",
    "print(parr1.__class__.species)\n",
    "# \n",
    "print(parr1)\n",
    "print(parr1.__class__)"
   ]
  },
  {
   "cell_type": "code",
   "execution_count": 13,
   "metadata": {},
   "outputs": [
    {
     "name": "stdout",
     "output_type": "stream",
     "text": [
      "Parrot name is Love Bird and its color is Green\n",
      "bird\n",
      "bird\n",
      "bird\n",
      "<__main__.Parrot object at 0x00000000057AE630>\n",
      "<class '__main__.Parrot'>\n"
     ]
    }
   ],
   "source": [
    "parr2.describe()\n",
    "# We can access static varible by these ways\n",
    "print(parr2.species)\n",
    "print(Parrot.species)\n",
    "print(parr2.__class__.species)\n",
    "# \n",
    "print(parr2)\n",
    "print(parr2.__class__)"
   ]
  },
  {
   "cell_type": "markdown",
   "metadata": {},
   "source": [
    "# Some basic builtin methods and attributes of class"
   ]
  },
  {
   "cell_type": "code",
   "execution_count": 88,
   "metadata": {},
   "outputs": [],
   "source": [
    "class Person:\n",
    "    pass"
   ]
  },
  {
   "cell_type": "code",
   "execution_count": 89,
   "metadata": {},
   "outputs": [],
   "source": [
    "class Employee(Person):\n",
    "    'Common base class for all employees'\n",
    "    empCount = 0\n",
    "\n",
    "    def __init__(self, name, salary):\n",
    "        self.name = name\n",
    "        self.salary = salary\n",
    "        self.__class__.empCount += 1\n",
    "   \n",
    "    def displayCount(self):\n",
    "        print (\"Total Employee %d\" % self.__class__.empCount)\n",
    "\n",
    "    def displayEmployee(self):\n",
    "        print( \"Name : \", self.name,  \", Salary: \", self.salary)"
   ]
  },
  {
   "cell_type": "code",
   "execution_count": 90,
   "metadata": {},
   "outputs": [],
   "source": [
    "emp1 = Employee(\"Zara\", 2000)\n",
    "emp2 = Employee(\"Manni\", 5000)"
   ]
  },
  {
   "cell_type": "code",
   "execution_count": 91,
   "metadata": {},
   "outputs": [
    {
     "name": "stdout",
     "output_type": "stream",
     "text": [
      "Name :  Zara , Salary:  2000\n",
      "Name :  Manni , Salary:  5000\n",
      "Total Employee 2\n"
     ]
    }
   ],
   "source": [
    "emp1.displayEmployee()\n",
    "emp2.displayEmployee()\n",
    "print(\"Total Employee %d\" % Employee.empCount)"
   ]
  },
  {
   "cell_type": "code",
   "execution_count": 92,
   "metadata": {},
   "outputs": [
    {
     "data": {
      "text/plain": [
       "'Common base class for all employees'"
      ]
     },
     "execution_count": 92,
     "metadata": {},
     "output_type": "execute_result"
    }
   ],
   "source": [
    "# The class has a documentation string, which can be accessed via ClassName.__doc__\n",
    "emp1.__doc__ # is used to to access the doc string of the class"
   ]
  },
  {
   "cell_type": "code",
   "execution_count": 93,
   "metadata": {},
   "outputs": [
    {
     "name": "stdout",
     "output_type": "stream",
     "text": [
      "False\n",
      "True\n"
     ]
    }
   ],
   "source": [
    "#to check if an attribute exists or not.\n",
    "print(hasattr(emp1, 'age')) \n",
    "print(hasattr(emp1, 'name'))"
   ]
  },
  {
   "cell_type": "code",
   "execution_count": 94,
   "metadata": {},
   "outputs": [
    {
     "name": "stdout",
     "output_type": "stream",
     "text": [
      "Name :  Zara , Salary:  2500\n"
     ]
    }
   ],
   "source": [
    "setattr(emp1, 'salary', 2500)\n",
    "emp1.displayEmployee()"
   ]
  },
  {
   "cell_type": "code",
   "execution_count": 95,
   "metadata": {},
   "outputs": [
    {
     "ename": "AttributeError",
     "evalue": "'Employee' object has no attribute 'salary'",
     "output_type": "error",
     "traceback": [
      "\u001b[1;31m---------------------------------------------------------------------------\u001b[0m",
      "\u001b[1;31mAttributeError\u001b[0m                            Traceback (most recent call last)",
      "\u001b[1;32m<ipython-input-95-1af163c6dfb0>\u001b[0m in \u001b[0;36m<module>\u001b[1;34m\u001b[0m\n\u001b[0;32m      1\u001b[0m \u001b[0mdelattr\u001b[0m\u001b[1;33m(\u001b[0m\u001b[0memp1\u001b[0m\u001b[1;33m,\u001b[0m \u001b[1;34m'salary'\u001b[0m\u001b[1;33m)\u001b[0m\u001b[1;33m\u001b[0m\u001b[1;33m\u001b[0m\u001b[0m\n\u001b[1;32m----> 2\u001b[1;33m \u001b[0memp1\u001b[0m\u001b[1;33m.\u001b[0m\u001b[0mdisplayEmployee\u001b[0m\u001b[1;33m(\u001b[0m\u001b[1;33m)\u001b[0m\u001b[1;33m\u001b[0m\u001b[1;33m\u001b[0m\u001b[0m\n\u001b[0m",
      "\u001b[1;32m<ipython-input-89-b301e5b851c0>\u001b[0m in \u001b[0;36mdisplayEmployee\u001b[1;34m(self)\u001b[0m\n\u001b[0;32m     12\u001b[0m \u001b[1;33m\u001b[0m\u001b[0m\n\u001b[0;32m     13\u001b[0m     \u001b[1;32mdef\u001b[0m \u001b[0mdisplayEmployee\u001b[0m\u001b[1;33m(\u001b[0m\u001b[0mself\u001b[0m\u001b[1;33m)\u001b[0m\u001b[1;33m:\u001b[0m\u001b[1;33m\u001b[0m\u001b[1;33m\u001b[0m\u001b[0m\n\u001b[1;32m---> 14\u001b[1;33m         \u001b[0mprint\u001b[0m\u001b[1;33m(\u001b[0m \u001b[1;34m\"Name : \"\u001b[0m\u001b[1;33m,\u001b[0m \u001b[0mself\u001b[0m\u001b[1;33m.\u001b[0m\u001b[0mname\u001b[0m\u001b[1;33m,\u001b[0m  \u001b[1;34m\", Salary: \"\u001b[0m\u001b[1;33m,\u001b[0m \u001b[0mself\u001b[0m\u001b[1;33m.\u001b[0m\u001b[0msalary\u001b[0m\u001b[1;33m)\u001b[0m\u001b[1;33m\u001b[0m\u001b[1;33m\u001b[0m\u001b[0m\n\u001b[0m",
      "\u001b[1;31mAttributeError\u001b[0m: 'Employee' object has no attribute 'salary'"
     ]
    }
   ],
   "source": [
    "delattr(emp1, 'salary')\n",
    "emp1.displayEmployee()"
   ]
  },
  {
   "cell_type": "code",
   "execution_count": 96,
   "metadata": {},
   "outputs": [
    {
     "data": {
      "text/plain": [
       "5000"
      ]
     },
     "execution_count": 96,
     "metadata": {},
     "output_type": "execute_result"
    }
   ],
   "source": [
    "getattr(emp2, 'salary')"
   ]
  },
  {
   "cell_type": "code",
   "execution_count": 97,
   "metadata": {},
   "outputs": [
    {
     "name": "stdout",
     "output_type": "stream",
     "text": [
      "Employee.__doc__: Common base class for all employees\n",
      "Employee.__name__: Employee\n",
      "Employee.__module__: __main__\n",
      "Employee.__bases__: (<class '__main__.Person'>,)\n",
      "Employee.__dict__: {'__module__': '__main__', '__doc__': 'Common base class for all employees', 'empCount': 2, '__init__': <function Employee.__init__ at 0x00000000057ABC80>, 'displayCount': <function Employee.displayCount at 0x0000000005822950>, 'displayEmployee': <function Employee.displayEmployee at 0x0000000005822E18>}\n"
     ]
    }
   ],
   "source": [
    "# Every Python class keeps following built-in attributes and they can be accessed using dot operator like any other attribute −\n",
    "print(\"Employee.__doc__:\", Employee.__doc__)\n",
    "print(\"Employee.__name__:\", Employee.__name__)\n",
    "print(\"Employee.__module__:\", Employee.__module__)\n",
    "print(\"Employee.__bases__:\", Employee.__bases__)\n",
    "print(\"Employee.__dict__:\", Employee.__dict__)"
   ]
  },
  {
   "cell_type": "markdown",
   "metadata": {},
   "source": [
    "# Overriding Methods"
   ]
  },
  {
   "cell_type": "code",
   "execution_count": 107,
   "metadata": {},
   "outputs": [
    {
     "name": "stdout",
     "output_type": "stream",
     "text": [
      "Calling child method\n"
     ]
    }
   ],
   "source": [
    "# You can always override your parent class methods. One reason for overriding parent's methods is\n",
    "# because you may want special or different functionality in your subclass.\n",
    "class Parent:        # define parent class\n",
    "    def myMethod(self):\n",
    "        print('Calling parent method')\n",
    "\n",
    "class Child(Parent): # define child class\n",
    "     def myMethod(self):\n",
    "        print('Calling child method')\n",
    "\n",
    "c = Child()          # instance of child\n",
    "c.myMethod()         # child calls overridden method"
   ]
  },
  {
   "cell_type": "markdown",
   "metadata": {},
   "source": [
    "# Overloading Operators\n"
   ]
  },
  {
   "cell_type": "code",
   "execution_count": 117,
   "metadata": {},
   "outputs": [
    {
     "name": "stdout",
     "output_type": "stream",
     "text": [
      "Vector (7, 8)\n",
      "Vector (7, 8)\n"
     ]
    }
   ],
   "source": [
    "class Vector:\n",
    "    def __init__(self, a, b):\n",
    "        self.a = a\n",
    "        self.b = b\n",
    "\n",
    "    def __str__(self):\n",
    "        return 'Vector (%d, %d)' % (self.a, self.b)\n",
    "   \n",
    "    def __add__(self,other):\n",
    "        return Vector(self.a + other.a, self.b + other.b)\n",
    "    \n",
    "    def addition(self, other):\n",
    "        return Vector(self.a+other.a, self.b+other.b)\n",
    "\n",
    "v1 = Vector(2,10)\n",
    "v2 = Vector(5,-2)\n",
    "print(v1 + v2)\n",
    "print(v1 + v2)"
   ]
  },
  {
   "cell_type": "code",
   "execution_count": null,
   "metadata": {},
   "outputs": [],
   "source": []
  },
  {
   "cell_type": "code",
   "execution_count": null,
   "metadata": {},
   "outputs": [],
   "source": []
  }
 ],
 "metadata": {
  "kernelspec": {
   "display_name": "Python 3",
   "language": "python",
   "name": "python3"
  },
  "language_info": {
   "codemirror_mode": {
    "name": "ipython",
    "version": 3
   },
   "file_extension": ".py",
   "mimetype": "text/x-python",
   "name": "python",
   "nbconvert_exporter": "python",
   "pygments_lexer": "ipython3",
   "version": "3.7.1"
  }
 },
 "nbformat": 4,
 "nbformat_minor": 2
}
