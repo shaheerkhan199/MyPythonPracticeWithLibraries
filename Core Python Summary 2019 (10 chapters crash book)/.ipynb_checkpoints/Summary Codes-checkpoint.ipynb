{
 "cells": [
  {
   "cell_type": "markdown",
   "metadata": {},
   "source": [
    "# Python Basics from Book \"Python Crash Course\""
   ]
  },
  {
   "cell_type": "code",
   "execution_count": 3,
   "metadata": {},
   "outputs": [
    {
     "name": "stdout",
     "output_type": "stream",
     "text": [
      "Python is easy to learn\n"
     ]
    }
   ],
   "source": [
    "print(\"Python is easy to learn\")"
   ]
  },
  {
   "cell_type": "code",
   "execution_count": 5,
   "metadata": {},
   "outputs": [
    {
     "name": "stdout",
     "output_type": "stream",
     "text": [
      "Hello world\n"
     ]
    }
   ],
   "source": [
    "message = \"Hello world\"\n",
    "print(message)"
   ]
  },
  {
   "cell_type": "code",
   "execution_count": 9,
   "metadata": {},
   "outputs": [
    {
     "name": "stdout",
     "output_type": "stream",
     "text": [
      "Avengers End Game\n"
     ]
    }
   ],
   "source": [
    "name = \"avengers end game\"\n",
    "print(name.title())"
   ]
  },
  {
   "cell_type": "code",
   "execution_count": 10,
   "metadata": {},
   "outputs": [
    {
     "name": "stdout",
     "output_type": "stream",
     "text": [
      "AVENGERS END GAME\n"
     ]
    }
   ],
   "source": [
    "print(name.upper())"
   ]
  },
  {
   "cell_type": "code",
   "execution_count": 11,
   "metadata": {},
   "outputs": [
    {
     "name": "stdout",
     "output_type": "stream",
     "text": [
      "avengers end game\n"
     ]
    }
   ],
   "source": [
    "print(name.lower())"
   ]
  },
  {
   "cell_type": "code",
   "execution_count": 13,
   "metadata": {},
   "outputs": [
    {
     "name": "stdout",
     "output_type": "stream",
     "text": [
      "Muhammad ALI\n"
     ]
    }
   ],
   "source": [
    "firstName = \"Muhammad\"\n",
    "lastName = \"Ali\"\n",
    "fullName = firstName+\" \"+lastName.upper()\n",
    "print(fullName)"
   ]
  },
  {
   "cell_type": "code",
   "execution_count": 15,
   "metadata": {},
   "outputs": [
    {
     "name": "stdout",
     "output_type": "stream",
     "text": [
      "    Horse.     \n"
     ]
    }
   ],
   "source": [
    "animal = \"    Horse.     \"\n",
    "print(animal)"
   ]
  },
  {
   "cell_type": "code",
   "execution_count": 16,
   "metadata": {},
   "outputs": [
    {
     "name": "stdout",
     "output_type": "stream",
     "text": [
      "Horse.     \n"
     ]
    }
   ],
   "source": [
    "print(animal.lstrip())"
   ]
  },
  {
   "cell_type": "code",
   "execution_count": 17,
   "metadata": {},
   "outputs": [
    {
     "name": "stdout",
     "output_type": "stream",
     "text": [
      "    Horse.\n"
     ]
    }
   ],
   "source": [
    "print(animal.rstrip())"
   ]
  },
  {
   "cell_type": "code",
   "execution_count": 18,
   "metadata": {},
   "outputs": [
    {
     "name": "stdout",
     "output_type": "stream",
     "text": [
      "Horse.\n"
     ]
    }
   ],
   "source": [
    "print(animal.strip())"
   ]
  },
  {
   "cell_type": "code",
   "execution_count": 19,
   "metadata": {},
   "outputs": [
    {
     "name": "stdout",
     "output_type": "stream",
     "text": [
      "'Success comes from failure'\n"
     ]
    }
   ],
   "source": [
    "quote = \"'Success comes from failure'\"\n",
    "print(quote)"
   ]
  },
  {
   "cell_type": "code",
   "execution_count": 21,
   "metadata": {},
   "outputs": [
    {
     "name": "stdout",
     "output_type": "stream",
     "text": [
      "a = 4\n",
      "b = 5.9\n"
     ]
    }
   ],
   "source": [
    "a = 4\n",
    "b = 5.9\n",
    "print(\"a = \"+str(a))\n",
    "print(\"b = \"+str(b))"
   ]
  },
  {
   "cell_type": "code",
   "execution_count": 87,
   "metadata": {},
   "outputs": [
    {
     "data": {
      "text/plain": [
       "9.9"
      ]
     },
     "execution_count": 87,
     "metadata": {},
     "output_type": "execute_result"
    }
   ],
   "source": [
    "a+b"
   ]
  },
  {
   "cell_type": "code",
   "execution_count": 22,
   "metadata": {},
   "outputs": [
    {
     "name": "stdout",
     "output_type": "stream",
     "text": [
      "I am 23 years old.\n"
     ]
    }
   ],
   "source": [
    "age = 23\n",
    "msg = \"I am \" + str(age) + \" years old.\"\n",
    "print(msg)"
   ]
  },
  {
   "cell_type": "code",
   "execution_count": 89,
   "metadata": {},
   "outputs": [],
   "source": [
    "#Zen of python\n",
    "import this"
   ]
  },
  {
   "cell_type": "code",
   "execution_count": 33,
   "metadata": {},
   "outputs": [
    {
     "name": "stdout",
     "output_type": "stream",
     "text": [
      "['trek', 'cannondale', 'redline', 'specialized']\n"
     ]
    }
   ],
   "source": [
    "bicycles = ['trek', 'cannondale', 'redline', 'specialized']\n",
    "print(bicycles)"
   ]
  },
  {
   "cell_type": "code",
   "execution_count": 34,
   "metadata": {},
   "outputs": [
    {
     "name": "stdout",
     "output_type": "stream",
     "text": [
      "trek\n"
     ]
    }
   ],
   "source": [
    "bicycles = ['trek', 'cannondale', 'redline', 'specialized']\n",
    "print(bicycles[0])"
   ]
  },
  {
   "cell_type": "code",
   "execution_count": 35,
   "metadata": {},
   "outputs": [
    {
     "name": "stdout",
     "output_type": "stream",
     "text": [
      "TREK\n"
     ]
    }
   ],
   "source": [
    "bicycles = ['trek', 'cannondale', 'redline', 'specialized']\n",
    "print(bicycles[0].upper())"
   ]
  },
  {
   "cell_type": "code",
   "execution_count": 36,
   "metadata": {},
   "outputs": [
    {
     "name": "stdout",
     "output_type": "stream",
     "text": [
      "specialized\n"
     ]
    }
   ],
   "source": [
    "# -1 return last index value\n",
    "bicycles = ['trek', 'cannondale', 'redline', 'specialized']\n",
    "print(bicycles[-1])"
   ]
  },
  {
   "cell_type": "code",
   "execution_count": 37,
   "metadata": {},
   "outputs": [
    {
     "name": "stdout",
     "output_type": "stream",
     "text": [
      "['Sports', 'cannondale', 'redline', 'specialized']\n"
     ]
    }
   ],
   "source": [
    "bicycles[0] = \"Sports\"\n",
    "print(bicycles)"
   ]
  },
  {
   "cell_type": "code",
   "execution_count": 38,
   "metadata": {},
   "outputs": [
    {
     "name": "stdout",
     "output_type": "stream",
     "text": [
      "['Sports', 'cannondale', 'redline', 'specialized', 'Yamaha']\n"
     ]
    }
   ],
   "source": [
    "bicycles.append(\"Yamaha\")\n",
    "print(bicycles)"
   ]
  },
  {
   "cell_type": "code",
   "execution_count": 39,
   "metadata": {},
   "outputs": [
    {
     "name": "stdout",
     "output_type": "stream",
     "text": [
      "['Sohrab', 'Sports', 'cannondale', 'redline', 'specialized', 'Yamaha']\n"
     ]
    }
   ],
   "source": [
    "bicycles.insert(0,'Sohrab')\n",
    "print(bicycles)"
   ]
  },
  {
   "cell_type": "code",
   "execution_count": 40,
   "metadata": {},
   "outputs": [
    {
     "name": "stdout",
     "output_type": "stream",
     "text": [
      "['Sports', 'cannondale', 'redline', 'specialized', 'Yamaha']\n"
     ]
    }
   ],
   "source": [
    "del bicycles[0]\n",
    "print(bicycles)"
   ]
  },
  {
   "cell_type": "code",
   "execution_count": 42,
   "metadata": {},
   "outputs": [
    {
     "ename": "NameError",
     "evalue": "name 'bicycles' is not defined",
     "output_type": "error",
     "traceback": [
      "\u001b[1;31m---------------------------------------------------------------------------\u001b[0m",
      "\u001b[1;31mNameError\u001b[0m                                 Traceback (most recent call last)",
      "\u001b[1;32m<ipython-input-42-f37bb4cd2425>\u001b[0m in \u001b[0;36m<module>\u001b[1;34m\u001b[0m\n\u001b[0;32m      1\u001b[0m \u001b[1;31m#This will delete whole list\u001b[0m\u001b[1;33m\u001b[0m\u001b[1;33m\u001b[0m\u001b[1;33m\u001b[0m\u001b[0m\n\u001b[1;32m----> 2\u001b[1;33m \u001b[1;32mdel\u001b[0m \u001b[0mbicycles\u001b[0m\u001b[1;33m[\u001b[0m\u001b[1;36m0\u001b[0m\u001b[1;33m]\u001b[0m\u001b[1;33m\u001b[0m\u001b[1;33m\u001b[0m\u001b[0m\n\u001b[0m\u001b[0;32m      3\u001b[0m \u001b[0mprint\u001b[0m\u001b[1;33m(\u001b[0m\u001b[0mbicycles\u001b[0m\u001b[1;33m)\u001b[0m\u001b[1;33m\u001b[0m\u001b[1;33m\u001b[0m\u001b[0m\n",
      "\u001b[1;31mNameError\u001b[0m: name 'bicycles' is not defined"
     ]
    }
   ],
   "source": [
    "#This will delete whole list\n",
    "del bicycles\n",
    "print(bicycles)"
   ]
  },
  {
   "cell_type": "code",
   "execution_count": 43,
   "metadata": {},
   "outputs": [],
   "source": [
    "bicycles = ['trek', 'cannondale', 'redline', 'specialized']"
   ]
  },
  {
   "cell_type": "code",
   "execution_count": 100,
   "metadata": {},
   "outputs": [
    {
     "name": "stdout",
     "output_type": "stream",
     "text": [
      "['trek', 'cannondale', 'redline']\n"
     ]
    }
   ],
   "source": [
    "bicycles.pop()\n",
    "print(bicycles)"
   ]
  },
  {
   "cell_type": "code",
   "execution_count": 101,
   "metadata": {},
   "outputs": [
    {
     "name": "stdout",
     "output_type": "stream",
     "text": [
      "['cannondale', 'redline']\n"
     ]
    }
   ],
   "source": [
    "bicycles.pop(0)\n",
    "print(bicycles)"
   ]
  },
  {
   "cell_type": "code",
   "execution_count": 102,
   "metadata": {},
   "outputs": [
    {
     "name": "stdout",
     "output_type": "stream",
     "text": [
      "['cannondale']\n"
     ]
    }
   ],
   "source": [
    "bicycles.remove(\"redline\")\n",
    "print(bicycles)"
   ]
  },
  {
   "cell_type": "code",
   "execution_count": 103,
   "metadata": {},
   "outputs": [
    {
     "name": "stdout",
     "output_type": "stream",
     "text": [
      "['audi', 'bmw', 'subaru', 'toyota']\n"
     ]
    }
   ],
   "source": [
    "cars = ['bmw', 'audi', 'toyota', 'subaru']\n",
    "cars.sort()\n",
    "print(cars)"
   ]
  },
  {
   "cell_type": "code",
   "execution_count": 104,
   "metadata": {},
   "outputs": [
    {
     "name": "stdout",
     "output_type": "stream",
     "text": [
      "['toyota', 'subaru', 'bmw', 'audi']\n"
     ]
    }
   ],
   "source": [
    "cars.sort(reverse=True)\n",
    "print(cars)"
   ]
  },
  {
   "cell_type": "code",
   "execution_count": 105,
   "metadata": {},
   "outputs": [
    {
     "name": "stdout",
     "output_type": "stream",
     "text": [
      "['audi', 'bmw', 'subaru', 'toyota']\n"
     ]
    }
   ],
   "source": [
    "#Sorting a List Temporarily with the sorted() Function\n",
    "print(sorted(cars))"
   ]
  },
  {
   "cell_type": "code",
   "execution_count": 106,
   "metadata": {},
   "outputs": [
    {
     "name": "stdout",
     "output_type": "stream",
     "text": [
      "['toyota', 'subaru', 'bmw', 'audi']\n",
      "['audi', 'bmw', 'subaru', 'toyota']\n"
     ]
    }
   ],
   "source": [
    "print(cars)\n",
    "cars.reverse()\n",
    "print(cars)"
   ]
  },
  {
   "cell_type": "code",
   "execution_count": 107,
   "metadata": {},
   "outputs": [
    {
     "data": {
      "text/plain": [
       "4"
      ]
     },
     "execution_count": 107,
     "metadata": {},
     "output_type": "execute_result"
    }
   ],
   "source": [
    "len(cars)"
   ]
  },
  {
   "cell_type": "code",
   "execution_count": 46,
   "metadata": {},
   "outputs": [
    {
     "name": "stdout",
     "output_type": "stream",
     "text": [
      "['Money', 'Cat', 'Dog']\n"
     ]
    }
   ],
   "source": [
    "animals = [\"Dog\",\"Cat\",\"Money\"]\n",
    "animals.reverse()\n",
    "print(animals)"
   ]
  },
  {
   "cell_type": "code",
   "execution_count": 47,
   "metadata": {},
   "outputs": [
    {
     "name": "stdout",
     "output_type": "stream",
     "text": [
      "Alice\n",
      "David\n",
      "Carolina\n"
     ]
    }
   ],
   "source": [
    "magicians = ['alice', 'david', 'carolina']\n",
    "for magician in magicians:\n",
    "    print(magician.title())\n"
   ]
  },
  {
   "cell_type": "code",
   "execution_count": 49,
   "metadata": {},
   "outputs": [
    {
     "name": "stdout",
     "output_type": "stream",
     "text": [
      "SHAHEER\n",
      "AQSA\n",
      "RAVI\n"
     ]
    }
   ],
   "source": [
    "students = [\"Shaheer\",\"Aqsa\",\"ravi\"]\n",
    "for student in students:\n",
    "    print(student.upper())"
   ]
  },
  {
   "cell_type": "code",
   "execution_count": 109,
   "metadata": {},
   "outputs": [],
   "source": [
    "#for loop syntax\n",
    "#for item in list_of_items:\n",
    "#    print(item)"
   ]
  },
  {
   "cell_type": "code",
   "execution_count": 51,
   "metadata": {},
   "outputs": [
    {
     "name": "stdout",
     "output_type": "stream",
     "text": [
      "1\n",
      "2\n",
      "3\n",
      "4\n",
      "5\n",
      "6\n",
      "\n",
      " End for loop\n"
     ]
    }
   ],
   "source": [
    "numbers = [1,2,3,4,5,6]\n",
    "for number in numbers:\n",
    "    print(number)\n",
    "print(\"\\n End for loop\")"
   ]
  },
  {
   "cell_type": "code",
   "execution_count": 111,
   "metadata": {},
   "outputs": [
    {
     "name": "stdout",
     "output_type": "stream",
     "text": [
      "1\n",
      "2\n",
      "3\n",
      "4\n",
      "5\n"
     ]
    }
   ],
   "source": [
    "#last number is exclusive\n",
    "for i in range(1,6):\n",
    "    print(i)"
   ]
  },
  {
   "cell_type": "code",
   "execution_count": 112,
   "metadata": {},
   "outputs": [
    {
     "name": "stdout",
     "output_type": "stream",
     "text": [
      "2\n",
      "4\n",
      "6\n",
      "8\n"
     ]
    }
   ],
   "source": [
    "#range(startpoint,endpoint,step)\n",
    "for j in range(2,10,2):\n",
    "    print(j)"
   ]
  },
  {
   "cell_type": "code",
   "execution_count": 113,
   "metadata": {},
   "outputs": [
    {
     "name": "stdout",
     "output_type": "stream",
     "text": [
      "0\n",
      "1\n",
      "2\n",
      "3\n",
      "4\n"
     ]
    }
   ],
   "source": [
    "#if we ommit starting point by default it starts with 0\n",
    "for k in range(5):\n",
    "    print(k)"
   ]
  },
  {
   "cell_type": "code",
   "execution_count": 53,
   "metadata": {},
   "outputs": [
    {
     "name": "stdout",
     "output_type": "stream",
     "text": [
      "[1, 2, 3, 4, 5]\n"
     ]
    }
   ],
   "source": [
    "#Using range() to Make a List of Numbers\n",
    "numbers = list(range(1,6))\n",
    "print(numbers)"
   ]
  },
  {
   "cell_type": "code",
   "execution_count": 115,
   "metadata": {},
   "outputs": [
    {
     "name": "stdout",
     "output_type": "stream",
     "text": [
      "[1, 4, 9, 16, 25, 36, 49, 64, 81, 100]\n"
     ]
    }
   ],
   "source": [
    "squares = []\n",
    "for r in range(1,11):\n",
    "    square = r**2\n",
    "    squares.append(square)\n",
    "print(squares)"
   ]
  },
  {
   "cell_type": "code",
   "execution_count": 116,
   "metadata": {},
   "outputs": [
    {
     "data": {
      "text/plain": [
       "1"
      ]
     },
     "execution_count": 116,
     "metadata": {},
     "output_type": "execute_result"
    }
   ],
   "source": [
    "min(squares)"
   ]
  },
  {
   "cell_type": "code",
   "execution_count": 117,
   "metadata": {},
   "outputs": [
    {
     "data": {
      "text/plain": [
       "100"
      ]
     },
     "execution_count": 117,
     "metadata": {},
     "output_type": "execute_result"
    }
   ],
   "source": [
    "max(squares)"
   ]
  },
  {
   "cell_type": "code",
   "execution_count": 118,
   "metadata": {},
   "outputs": [
    {
     "data": {
      "text/plain": [
       "385"
      ]
     },
     "execution_count": 118,
     "metadata": {},
     "output_type": "execute_result"
    }
   ],
   "source": [
    "sum(squares)"
   ]
  },
  {
   "cell_type": "code",
   "execution_count": 54,
   "metadata": {},
   "outputs": [
    {
     "name": "stdout",
     "output_type": "stream",
     "text": [
      "[1, 8, 27, 64, 125]\n"
     ]
    }
   ],
   "source": [
    "#list comprehension\n",
    "cube = [value**3 for value in range(1,6)]\n",
    "print(cube)"
   ]
  },
  {
   "cell_type": "code",
   "execution_count": 58,
   "metadata": {},
   "outputs": [
    {
     "name": "stdout",
     "output_type": "stream",
     "text": [
      "['charles', 'martina', 'michael', 'florence']\n"
     ]
    }
   ],
   "source": [
    "#slicing a list\n",
    "#listname[startpoint:endpoint] note:end point is exlusive\n",
    "players = ['charles', 'martina', 'michael', 'florence', 'eli']\n",
    "print(players[0:-1])"
   ]
  },
  {
   "cell_type": "code",
   "execution_count": 121,
   "metadata": {},
   "outputs": [
    {
     "name": "stdout",
     "output_type": "stream",
     "text": [
      "['martina', 'michael', 'florence']\n"
     ]
    }
   ],
   "source": [
    "print(players[1:4])"
   ]
  },
  {
   "cell_type": "code",
   "execution_count": 122,
   "metadata": {},
   "outputs": [
    {
     "name": "stdout",
     "output_type": "stream",
     "text": [
      "['charles', 'martina', 'michael', 'florence']\n"
     ]
    }
   ],
   "source": [
    "#if start is ommit then by default is 1\n",
    "print(players[:4])"
   ]
  },
  {
   "cell_type": "code",
   "execution_count": 123,
   "metadata": {},
   "outputs": [
    {
     "name": "stdout",
     "output_type": "stream",
     "text": [
      "['charles', 'martina', 'michael', 'florence', 'eli']\n"
     ]
    }
   ],
   "source": [
    "#if end point is ommit then it print list to end\n",
    "print(players[0:])"
   ]
  },
  {
   "cell_type": "code",
   "execution_count": 124,
   "metadata": {},
   "outputs": [
    {
     "name": "stdout",
     "output_type": "stream",
     "text": [
      "['michael', 'florence', 'eli']\n"
     ]
    }
   ],
   "source": [
    "print(players[2:])"
   ]
  },
  {
   "cell_type": "code",
   "execution_count": 125,
   "metadata": {},
   "outputs": [
    {
     "name": "stdout",
     "output_type": "stream",
     "text": [
      "['michael', 'florence', 'eli']\n"
     ]
    }
   ],
   "source": [
    "print(players[-3:])"
   ]
  },
  {
   "cell_type": "code",
   "execution_count": 126,
   "metadata": {},
   "outputs": [
    {
     "name": "stdout",
     "output_type": "stream",
     "text": [
      "Charles\n",
      "Martina\n",
      "Michael\n"
     ]
    }
   ],
   "source": [
    "for player in players[:3]:\n",
    "    print(player.title())"
   ]
  },
  {
   "cell_type": "code",
   "execution_count": 127,
   "metadata": {},
   "outputs": [
    {
     "name": "stdout",
     "output_type": "stream",
     "text": [
      "['charles', 'martina', 'michael', 'florence', 'eli']\n"
     ]
    }
   ],
   "source": [
    "#copy a list\n",
    "copy_of_players = players[:]\n",
    "print(copy_of_players)"
   ]
  },
  {
   "cell_type": "code",
   "execution_count": 131,
   "metadata": {},
   "outputs": [
    {
     "name": "stdout",
     "output_type": "stream",
     "text": [
      "['charles', 'martina', 'michael', 'florence', 'eli']\n"
     ]
    }
   ],
   "source": [
    "anothercopy = copy_of_players\n",
    "print(anothercopy)"
   ]
  },
  {
   "cell_type": "code",
   "execution_count": 141,
   "metadata": {},
   "outputs": [
    {
     "name": "stdout",
     "output_type": "stream",
     "text": [
      "10\n",
      "20\n",
      "(10, 20)\n"
     ]
    }
   ],
   "source": [
    "#Tuples o create a list of items that cannot change.\n",
    "dimensions = (10,20)\n",
    "print(dimensions[0])\n",
    "print(dimensions[1])\n",
    "print(dimensions)\n"
   ]
  },
  {
   "cell_type": "code",
   "execution_count": 142,
   "metadata": {},
   "outputs": [
    {
     "ename": "TypeError",
     "evalue": "'tuple' object does not support item assignment",
     "output_type": "error",
     "traceback": [
      "\u001b[1;31m---------------------------------------------------------------------------\u001b[0m",
      "\u001b[1;31mTypeError\u001b[0m                                 Traceback (most recent call last)",
      "\u001b[1;32m<ipython-input-142-6137b1016d1b>\u001b[0m in \u001b[0;36m<module>\u001b[1;34m\u001b[0m\n\u001b[0;32m      1\u001b[0m \u001b[1;31m#Now we updating tupple and it will produce an error\u001b[0m\u001b[1;33m\u001b[0m\u001b[1;33m\u001b[0m\u001b[1;33m\u001b[0m\u001b[0m\n\u001b[1;32m----> 2\u001b[1;33m \u001b[0mdimensions\u001b[0m\u001b[1;33m[\u001b[0m\u001b[1;36m0\u001b[0m\u001b[1;33m]\u001b[0m\u001b[1;33m=\u001b[0m\u001b[1;36m5\u001b[0m\u001b[1;33m\u001b[0m\u001b[1;33m\u001b[0m\u001b[0m\n\u001b[0m",
      "\u001b[1;31mTypeError\u001b[0m: 'tuple' object does not support item assignment"
     ]
    }
   ],
   "source": [
    "#Now we updating tupple and it will produce an error\n",
    "dimensions[0]=5"
   ]
  },
  {
   "cell_type": "code",
   "execution_count": 143,
   "metadata": {},
   "outputs": [
    {
     "name": "stdout",
     "output_type": "stream",
     "text": [
      "10\n",
      "20\n"
     ]
    }
   ],
   "source": [
    "#lopping on tuple\n",
    "for dimension in dimensions:\n",
    "    print(dimension)"
   ]
  },
  {
   "cell_type": "code",
   "execution_count": 144,
   "metadata": {},
   "outputs": [
    {
     "name": "stdout",
     "output_type": "stream",
     "text": [
      "original Dimension (10, 20)\n",
      "Modified Dimensions (50, 100)\n"
     ]
    }
   ],
   "source": [
    "#Although you can’t modify a tuple, you can assign a new value to a variable\n",
    "#that holds a tuple. So if we wanted to change our dimensions, we could\n",
    "#redefine the entire tuple:\n",
    "print(\"original Dimension\",dimensions)\n",
    "dimensions = (50,100)\n",
    "print(\"Modified Dimensions\",dimensions)"
   ]
  },
  {
   "cell_type": "code",
   "execution_count": 145,
   "metadata": {},
   "outputs": [
    {
     "name": "stdout",
     "output_type": "stream",
     "text": [
      "I don't like :  apple\n",
      "I like :  MANGO\n",
      "I don't like :  banana\n",
      "I don't like :  orange\n"
     ]
    }
   ],
   "source": [
    "#IF ELSE\n",
    "fruits = [\"Apple\",\"Mango\",\"Banana\",\"Orange\"]\n",
    "for fruit in fruits:\n",
    "    if fruit == \"Mango\":\n",
    "        print(\"I like : \", fruit.upper())\n",
    "    else:\n",
    "        print(\"I don't like : \", fruit.lower())\n",
    "        "
   ]
  },
  {
   "cell_type": "code",
   "execution_count": 151,
   "metadata": {},
   "outputs": [
    {
     "data": {
      "text/plain": [
       "True"
      ]
     },
     "execution_count": 151,
     "metadata": {},
     "output_type": "execute_result"
    }
   ],
   "source": [
    "#onditional Tests (Check for equality)\n",
    "car = 'BMW' #assignment in variable\n",
    "car == 'BMW' #conditional test\n"
   ]
  },
  {
   "cell_type": "code",
   "execution_count": 152,
   "metadata": {},
   "outputs": [
    {
     "data": {
      "text/plain": [
       "False"
      ]
     },
     "execution_count": 152,
     "metadata": {},
     "output_type": "execute_result"
    }
   ],
   "source": [
    "car == 'bmw'"
   ]
  },
  {
   "cell_type": "code",
   "execution_count": 153,
   "metadata": {},
   "outputs": [
    {
     "data": {
      "text/plain": [
       "False"
      ]
     },
     "execution_count": 153,
     "metadata": {},
     "output_type": "execute_result"
    }
   ],
   "source": [
    "car == 'ferrari'"
   ]
  },
  {
   "cell_type": "code",
   "execution_count": 154,
   "metadata": {},
   "outputs": [
    {
     "data": {
      "text/plain": [
       "True"
      ]
     },
     "execution_count": 154,
     "metadata": {},
     "output_type": "execute_result"
    }
   ],
   "source": [
    "car.lower() == 'bmw'"
   ]
  },
  {
   "cell_type": "code",
   "execution_count": 155,
   "metadata": {},
   "outputs": [
    {
     "name": "stdout",
     "output_type": "stream",
     "text": [
      "City is something Diffent\n"
     ]
    }
   ],
   "source": [
    "#Checking for Inequality\n",
    "city = \"Karachi\"\n",
    "if city != \"Karchi\":\n",
    "    print(\"City is something Diffent\")\n"
   ]
  },
  {
   "cell_type": "code",
   "execution_count": 156,
   "metadata": {},
   "outputs": [
    {
     "data": {
      "text/plain": [
       "True"
      ]
     },
     "execution_count": 156,
     "metadata": {},
     "output_type": "execute_result"
    }
   ],
   "source": [
    "#Numerical Comparisons\n",
    "age = 22\n",
    "age == 22"
   ]
  },
  {
   "cell_type": "code",
   "execution_count": 161,
   "metadata": {},
   "outputs": [
    {
     "data": {
      "text/plain": [
       "False"
      ]
     },
     "execution_count": 161,
     "metadata": {},
     "output_type": "execute_result"
    }
   ],
   "source": [
    "#Result is false because '22' is string\n",
    "age == '22'"
   ]
  },
  {
   "cell_type": "code",
   "execution_count": 164,
   "metadata": {},
   "outputs": [
    {
     "data": {
      "text/plain": [
       "False"
      ]
     },
     "execution_count": 164,
     "metadata": {},
     "output_type": "execute_result"
    }
   ],
   "source": [
    "age < 20"
   ]
  },
  {
   "cell_type": "code",
   "execution_count": 166,
   "metadata": {},
   "outputs": [
    {
     "data": {
      "text/plain": [
       "True"
      ]
     },
     "execution_count": 166,
     "metadata": {},
     "output_type": "execute_result"
    }
   ],
   "source": [
    "age > 20 "
   ]
  },
  {
   "cell_type": "code",
   "execution_count": 167,
   "metadata": {},
   "outputs": [
    {
     "data": {
      "text/plain": [
       "True"
      ]
     },
     "execution_count": 167,
     "metadata": {},
     "output_type": "execute_result"
    }
   ],
   "source": [
    "#Using and keyword to Check Multiple Conditions\n",
    "minSalary = 500\n",
    "maxSalary = 800\n",
    "minSalary >= 500 and maxSalary <= 800"
   ]
  },
  {
   "cell_type": "code",
   "execution_count": 169,
   "metadata": {},
   "outputs": [
    {
     "data": {
      "text/plain": [
       "False"
      ]
     },
     "execution_count": 169,
     "metadata": {},
     "output_type": "execute_result"
    }
   ],
   "source": [
    "minSalary >= 900 and maxSalary <= 1200"
   ]
  },
  {
   "cell_type": "code",
   "execution_count": 170,
   "metadata": {},
   "outputs": [
    {
     "data": {
      "text/plain": [
       "True"
      ]
     },
     "execution_count": 170,
     "metadata": {},
     "output_type": "execute_result"
    }
   ],
   "source": [
    "#Using or to Check Multiple Conditions\n",
    "minSalary >= 900 or maxSalary <= 1200"
   ]
  },
  {
   "cell_type": "code",
   "execution_count": 171,
   "metadata": {},
   "outputs": [
    {
     "data": {
      "text/plain": [
       "True"
      ]
     },
     "execution_count": 171,
     "metadata": {},
     "output_type": "execute_result"
    }
   ],
   "source": [
    "minSalary >= 500 and maxSalary <= 800"
   ]
  },
  {
   "cell_type": "code",
   "execution_count": 173,
   "metadata": {},
   "outputs": [],
   "source": [
    "#Simple if Statements\n",
    "#if conditional_test:\n",
    "#    do something"
   ]
  },
  {
   "cell_type": "code",
   "execution_count": 31,
   "metadata": {},
   "outputs": [
    {
     "name": "stdout",
     "output_type": "stream",
     "text": [
      "Fruit color is yellow\n"
     ]
    }
   ],
   "source": [
    "fruit = \"Mango\"\n",
    "if fruit == \"Apple\":\n",
    "    print(\"Fruit color is red\")\n",
    "elif fruit == \"Mango\":\n",
    "    print(\"Fruit color is yellow\")\n",
    "elif fruit == \"Chickoo\":\n",
    "    print(\"Fruit color is brown\")\n",
    "else:\n",
    "    print(\"I dont know anyother fruit\")"
   ]
  },
  {
   "cell_type": "code",
   "execution_count": 32,
   "metadata": {},
   "outputs": [
    {
     "name": "stdout",
     "output_type": "stream",
     "text": [
      "{'name': 'Ali', 'age': 25, 'email': 'ali@yahoo.com', 'city': 'Karachi'}\n"
     ]
    }
   ],
   "source": [
    "#A Simple Dictionary\n",
    "boy = {\n",
    "    \"name\":\"Ali\",\n",
    "    \"age\":25,\n",
    "    \"email\":\"ali@yahoo.com\",\n",
    "    \"city\":\"Karachi\"\n",
    "}\n",
    "print(boy)"
   ]
  },
  {
   "cell_type": "code",
   "execution_count": 33,
   "metadata": {},
   "outputs": [
    {
     "name": "stdout",
     "output_type": "stream",
     "text": [
      "Ali\n"
     ]
    }
   ],
   "source": [
    "# Accessing Values in a Dictionary\n",
    "print(boy['name'])"
   ]
  },
  {
   "cell_type": "code",
   "execution_count": 34,
   "metadata": {},
   "outputs": [
    {
     "name": "stdout",
     "output_type": "stream",
     "text": [
      "{'name': 'Ali', 'age': 25, 'email': 'ali@yahoo.com', 'city': 'Karachi', 'country': 'Pakistan', 'religion': 'Muslim'}\n"
     ]
    }
   ],
   "source": [
    "# Adding New Key-Value Pairs\n",
    "boy['country'] = \"Pakistan\"\n",
    "boy['religion'] = \"Muslim\"\n",
    "print(boy)"
   ]
  },
  {
   "cell_type": "code",
   "execution_count": 35,
   "metadata": {},
   "outputs": [
    {
     "name": "stdout",
     "output_type": "stream",
     "text": [
      "{'name': 'Ahmed', 'age': 25, 'email': 'ali@yahoo.com', 'city': 'Karachi', 'country': 'Pakistan', 'religion': 'Muslim'}\n"
     ]
    }
   ],
   "source": [
    "#values in dictionar are updateable\n",
    "boy['name'] = \"Ahmed\"\n",
    "print(boy)"
   ]
  },
  {
   "cell_type": "code",
   "execution_count": 36,
   "metadata": {},
   "outputs": [
    {
     "name": "stdout",
     "output_type": "stream",
     "text": [
      "{'name': 'Ahmed', 'age': 25, 'email': 'ali@yahoo.com', 'city': 'Karachi', 'country': 'Pakistan'}\n"
     ]
    }
   ],
   "source": [
    "#Removing Key-Value Pairs\n",
    "del boy['religion'] \n",
    "print(boy)"
   ]
  },
  {
   "cell_type": "code",
   "execution_count": 37,
   "metadata": {},
   "outputs": [],
   "source": [
    "# A Dictionary of Similar Objects\n",
    "favorite_languages = {\n",
    " 'jen': 'python',\n",
    " 'sarah': 'HTML',\n",
    " 'edward': 'asp.net',\n",
    " 'phil': 'python',\n",
    " }"
   ]
  },
  {
   "cell_type": "code",
   "execution_count": 38,
   "metadata": {},
   "outputs": [
    {
     "name": "stdout",
     "output_type": "stream",
     "text": [
      "name  =  Ahmed\n",
      "age  =  25\n",
      "email  =  ali@yahoo.com\n",
      "city  =  Karachi\n",
      "country  =  Pakistan\n"
     ]
    }
   ],
   "source": [
    "#looping over dictionary\n",
    "# Looping Through All Key-Value Pairs\n",
    "for key,value in boy.items():\n",
    "    print(key,\" = \", value)"
   ]
  },
  {
   "cell_type": "code",
   "execution_count": 39,
   "metadata": {},
   "outputs": [
    {
     "name": "stdout",
     "output_type": "stream",
     "text": [
      "name Ahmed\n",
      "age 25\n",
      "email ali@yahoo.com\n",
      "city Karachi\n",
      "country Pakistan\n"
     ]
    }
   ],
   "source": [
    "#Same  as previous example\n",
    "for k,v in boy.items():\n",
    "    print(k,v)"
   ]
  },
  {
   "cell_type": "code",
   "execution_count": 40,
   "metadata": {},
   "outputs": [
    {
     "name": "stdout",
     "output_type": "stream",
     "text": [
      "name\n",
      "age\n",
      "email\n",
      "city\n",
      "country\n"
     ]
    }
   ],
   "source": [
    "for title in boy.keys():\n",
    "    print(title)"
   ]
  },
  {
   "cell_type": "code",
   "execution_count": 41,
   "metadata": {},
   "outputs": [
    {
     "name": "stdout",
     "output_type": "stream",
     "text": [
      "Ahmed\n",
      "25\n",
      "ali@yahoo.com\n",
      "Karachi\n",
      "Pakistan\n"
     ]
    }
   ],
   "source": [
    "for data in boy.values():\n",
    "    print(data)"
   ]
  },
  {
   "cell_type": "code",
   "execution_count": 42,
   "metadata": {},
   "outputs": [
    {
     "name": "stdout",
     "output_type": "stream",
     "text": [
      "name = Ahmed\n",
      "age = 25\n",
      "email = ali@yahoo.com\n",
      "city = Karachi\n",
      "country = Pakistan\n"
     ]
    }
   ],
   "source": [
    "# another way of printing dictionary using loop\n",
    "for k in boy.keys():\n",
    "    print(k,\"=\" ,boy[k])"
   ]
  },
  {
   "cell_type": "code",
   "execution_count": 43,
   "metadata": {},
   "outputs": [
    {
     "name": "stdout",
     "output_type": "stream",
     "text": [
      "[{'name': 'Sheri', 'age': '22', 'city': 'karachi'}, {'name': 'Areeb', 'age': '18', 'city': 'Lahore'}, {'name': 'Rehman', 'age': '12', 'city': 'Islamabad'}]\n"
     ]
    }
   ],
   "source": [
    "#A list of Dictionaries\n",
    "boy1 = {\n",
    "    \"name\":\"Sheri\",\n",
    "    \"age\":\"22\",\n",
    "    \"city\":\"karachi\"\n",
    "}\n",
    "\n",
    "boy2 = {\n",
    "    \"name\":\"Areeb\",\n",
    "    \"age\":\"18\",\n",
    "    \"city\":\"Lahore\"\n",
    "}\n",
    "\n",
    "boy3 = {\n",
    "    \"name\":\"Rehman\",\n",
    "    \"age\":\"12\",\n",
    "    \"city\":\"Islamabad\"\n",
    "}\n",
    "\n",
    "allBoys = [boy1,boy2,boy3]\n",
    "print(allBoys)"
   ]
  },
  {
   "cell_type": "code",
   "execution_count": 44,
   "metadata": {},
   "outputs": [
    {
     "name": "stdout",
     "output_type": "stream",
     "text": [
      "{'name': 'Sheri', 'age': '22', 'city': 'karachi'}\n",
      "{'name': 'Areeb', 'age': '18', 'city': 'Lahore'}\n",
      "{'name': 'Rehman', 'age': '12', 'city': 'Islamabad'}\n"
     ]
    }
   ],
   "source": [
    "for boy in allBoys:\n",
    "    print(boy)"
   ]
  },
  {
   "cell_type": "code",
   "execution_count": 30,
   "metadata": {},
   "outputs": [
    {
     "name": "stdout",
     "output_type": "stream",
     "text": [
      "****** Dictionary  1  ********\n",
      "name  =  Sheri\n",
      "age  =  22\n",
      "city  =  karachi\n",
      "****** Dictionary  2  ********\n",
      "name  =  Areeb\n",
      "age  =  18\n",
      "city  =  Lahore\n",
      "****** Dictionary  3  ********\n",
      "name  =  Rehman\n",
      "age  =  12\n",
      "city  =  Islamabad\n"
     ]
    }
   ],
   "source": [
    "i=1\n",
    "for boy in allBoys:\n",
    "    print(\"****** Dictionary \",i, \" ********\")\n",
    "    i+=1\n",
    "    for k,v in boy.items():\n",
    "        print(k,\" = \", v)\n",
    "    #print(\"**********\")"
   ]
  },
  {
   "cell_type": "code",
   "execution_count": 45,
   "metadata": {},
   "outputs": [
    {
     "data": {
      "text/plain": [
       "3"
      ]
     },
     "execution_count": 45,
     "metadata": {},
     "output_type": "execute_result"
    }
   ],
   "source": [
    "#finding length of list\n",
    "len(allBoys)"
   ]
  },
  {
   "cell_type": "code",
   "execution_count": 51,
   "metadata": {},
   "outputs": [
    {
     "name": "stdout",
     "output_type": "stream",
     "text": [
      "{'name': 'Zebra', 'color': 'Black and white'}\n",
      "{'name': 'Zebra', 'color': 'Black and white'}\n",
      "{'name': 'Zebra', 'color': 'Black and white'}\n",
      "{'name': 'Zebra', 'color': 'Black and white'}\n",
      "{'name': 'Zebra', 'color': 'Black and white'}\n",
      "No of dictionaries in list is : 30\n"
     ]
    }
   ],
   "source": [
    "# 1- Make an empty list of animals\n",
    "# 2- Create 30 dictionary of animals with two attributes and append these dictionaries into list\n",
    "# 3- print 5 dictionaries from starting\n",
    "# 4- at the end calculate the no of dictionaries in list\n",
    "animals = []\n",
    "\n",
    "for i in range(1,31):\n",
    "    animal = {\"name\":\"Zebra\", \"color\":\"Black and white\"}\n",
    "    animals.append(animal)\n",
    "\n",
    "for animal in animals[:5]:\n",
    "    print(animal)\n",
    "    \n",
    "print(\"No of dictionaries in list is :\", str(len(animals)))"
   ]
  },
  {
   "cell_type": "code",
   "execution_count": null,
   "metadata": {},
   "outputs": [],
   "source": [
    "# A list in dictionary"
   ]
  },
  {
   "cell_type": "code",
   "execution_count": 1,
   "metadata": {},
   "outputs": [
    {
     "name": "stdout",
     "output_type": "stream",
     "text": [
      "{'name': 'Aqsa', 'languages': ['C', 'Java', 'HTML', 'CSS', 'JS', 'Asp.net']}\n"
     ]
    }
   ],
   "source": [
    "girl = {\n",
    "    \"name\":\"Aqsa\",\n",
    "    \"languages\":['C','Java','HTML','CSS','JS','Asp.net']\n",
    "}\n",
    "\n",
    "print(girl)"
   ]
  },
  {
   "cell_type": "code",
   "execution_count": 2,
   "metadata": {},
   "outputs": [
    {
     "name": "stdout",
     "output_type": "stream",
     "text": [
      "Name of girl : Aqsa\n"
     ]
    }
   ],
   "source": [
    "print(\"Name of girl :\", girl['name'])"
   ]
  },
  {
   "cell_type": "code",
   "execution_count": 3,
   "metadata": {},
   "outputs": [
    {
     "name": "stdout",
     "output_type": "stream",
     "text": [
      "C\n",
      "Java\n",
      "HTML\n",
      "CSS\n",
      "JS\n",
      "Asp.net\n"
     ]
    }
   ],
   "source": [
    "for language in girl['languages']:\n",
    "    print(language)"
   ]
  },
  {
   "cell_type": "code",
   "execution_count": 4,
   "metadata": {},
   "outputs": [
    {
     "name": "stdout",
     "output_type": "stream",
     "text": [
      "{'jen': ['python', 'ruby'], 'sarah': ['c'], 'edward': ['ruby', 'go'], 'phil': ['python', 'haskell']}\n"
     ]
    }
   ],
   "source": [
    "favorite_languages = {\n",
    " 'jen': ['python', 'ruby'],\n",
    " 'sarah': ['c'],\n",
    " 'edward': ['ruby', 'go'],\n",
    " 'phil': ['python', 'haskell'],\n",
    " }\n",
    "print(favorite_languages)"
   ]
  },
  {
   "cell_type": "code",
   "execution_count": 11,
   "metadata": {},
   "outputs": [
    {
     "name": "stdout",
     "output_type": "stream",
     "text": [
      "jen python\n",
      "jen ruby\n",
      "******\n",
      "sarah c\n",
      "******\n",
      "edward ruby\n",
      "edward go\n",
      "******\n",
      "phil python\n",
      "phil haskell\n",
      "******\n"
     ]
    }
   ],
   "source": [
    "for name,lang in favorite_languages.items():\n",
    "    #print(name, lang)\n",
    "    for l in lang:\n",
    "        print(name,l)\n",
    "    print(\"******\")"
   ]
  },
  {
   "cell_type": "code",
   "execution_count": 2,
   "metadata": {},
   "outputs": [
    {
     "name": "stdout",
     "output_type": "stream",
     "text": [
      "{'Ali': {'firstname': 'Muhammad', 'lastname': 'Ali', 'course': 'DBMS'}, 'Sheri': {'firstname': 'Shaheer', 'lastname': 'khan', 'course': 'OOP'}, 'saen': {'firstname': 'Ravi', 'lastname': 'Shankar', 'course': 'DCL'}}\n"
     ]
    }
   ],
   "source": [
    "# A Dictionary in a Dictionary\n",
    "students = {\n",
    "    'Ali' : {'firstname':'Muhammad', 'lastname':'Ali', 'course':'DBMS'},\n",
    "    'Sheri' : {'firstname':'Shaheer', 'lastname':'khan', 'course':'OOP'},\n",
    "    'saen' : {'firstname':'Ravi', 'lastname':'Shankar', 'course':'DCL'}\n",
    "}\n",
    "print(students)"
   ]
  },
  {
   "cell_type": "code",
   "execution_count": 3,
   "metadata": {},
   "outputs": [
    {
     "name": "stdout",
     "output_type": "stream",
     "text": [
      "Username :  Ali\n",
      "Full name :  Muhammad Ali\n",
      "Course : DBMS\n",
      "******\n",
      "Username :  Sheri\n",
      "Full name :  Shaheer khan\n",
      "Course : OOP\n",
      "******\n",
      "Username :  saen\n",
      "Full name :  Ravi Shankar\n",
      "Course : DCL\n",
      "******\n"
     ]
    }
   ],
   "source": [
    "for stu ,  stud_info in students.items():\n",
    "    print(\"Username : \", stu)\n",
    "    print(\"Full name : \", stud_info['firstname']+' '+stud_info['lastname'])\n",
    "    print(\"Course :\", stud_info['course'])\n",
    "    print(\"******\")"
   ]
  },
  {
   "cell_type": "code",
   "execution_count": 5,
   "metadata": {},
   "outputs": [
    {
     "name": "stdout",
     "output_type": "stream",
     "text": [
      "Enter Your name : AS\n",
      "Hello  AS\n"
     ]
    }
   ],
   "source": [
    "# Taking user input (String)\n",
    "username = input(\"Enter Your name : \")\n",
    "print(\"Hello \", username)"
   ]
  },
  {
   "cell_type": "code",
   "execution_count": 2,
   "metadata": {},
   "outputs": [
    {
     "name": "stdout",
     "output_type": "stream",
     "text": [
      "Enter your age : 22\n",
      "your age is 22\n"
     ]
    }
   ],
   "source": [
    "# Taking user input (Integer)\n",
    "userage = int(input(\"Enter your age : \"))\n",
    "print(\"your age is {}\".format(userage))"
   ]
  },
  {
   "cell_type": "code",
   "execution_count": 16,
   "metadata": {},
   "outputs": [
    {
     "data": {
      "text/plain": [
       "True"
      ]
     },
     "execution_count": 16,
     "metadata": {},
     "output_type": "execute_result"
    }
   ],
   "source": [
    "userage>=22"
   ]
  },
  {
   "cell_type": "code",
   "execution_count": 18,
   "metadata": {},
   "outputs": [
    {
     "name": "stdout",
     "output_type": "stream",
     "text": [
      "Enter a number : 3\n",
      "The number is odd\n"
     ]
    }
   ],
   "source": [
    "# Even/Odd program\n",
    "number = input(\"Enter a number : \")\n",
    "number = int(number)\n",
    "if number%2 == 0:\n",
    "    print(\"The number is even\")\n",
    "else:\n",
    "    print(\"The number is odd\")"
   ]
  },
  {
   "cell_type": "code",
   "execution_count": 2,
   "metadata": {},
   "outputs": [
    {
     "name": "stdout",
     "output_type": "stream",
     "text": [
      "1\n",
      "2\n",
      "3\n",
      "4\n",
      "5\n"
     ]
    }
   ],
   "source": [
    "# while Loops\n",
    "i = 1\n",
    "while i<=5:\n",
    "    print(i)\n",
    "    i+=1\n",
    "    "
   ]
  },
  {
   "cell_type": "code",
   "execution_count": 3,
   "metadata": {},
   "outputs": [
    {
     "name": "stdout",
     "output_type": "stream",
     "text": [
      "1\n",
      "2\n"
     ]
    }
   ],
   "source": [
    "# break key word for quit a loop\n",
    "i = 0\n",
    "while i<=5:\n",
    "    i+=1\n",
    "    if i == 3:\n",
    "        break\n",
    "    else:\n",
    "        print(i)\n",
    "    "
   ]
  },
  {
   "cell_type": "code",
   "execution_count": 4,
   "metadata": {},
   "outputs": [
    {
     "name": "stdout",
     "output_type": "stream",
     "text": [
      "1\n",
      "3\n",
      "5\n",
      "7\n",
      "9\n",
      "11\n"
     ]
    }
   ],
   "source": [
    "#  continue key word for skip iteration\n",
    "i = 0\n",
    "while i<=10:\n",
    "    i+=1\n",
    "    if i%2 == 0:\n",
    "        continue\n",
    "    else:    \n",
    "        print(i)\n",
    "    "
   ]
  },
  {
   "cell_type": "code",
   "execution_count": null,
   "metadata": {},
   "outputs": [],
   "source": [
    "# This loop runs forever!\n",
    "# Infinite loop\n",
    "x = 1\n",
    "while x <= 5:\n",
    "    print(x)"
   ]
  },
  {
   "cell_type": "code",
   "execution_count": 8,
   "metadata": {},
   "outputs": [
    {
     "name": "stdout",
     "output_type": "stream",
     "text": [
      "Verifying user: Candace\n",
      "Verifying user: Brian\n",
      "Verifying user: Alice\n"
     ]
    }
   ],
   "source": [
    "# Moving Items from One List to Another (Using while loop)\n",
    "unconfirmed_users = ['alice', 'brian', 'candace']\n",
    "confirmed_users = []\n",
    "while unconfirmed_users:\n",
    "    current_user = unconfirmed_users.pop()\n",
    "    print(\"Verifying user: \" + current_user.title())\n",
    "    confirmed_users.append(current_user)"
   ]
  },
  {
   "cell_type": "code",
   "execution_count": 9,
   "metadata": {},
   "outputs": [
    {
     "name": "stdout",
     "output_type": "stream",
     "text": [
      "[]\n"
     ]
    }
   ],
   "source": [
    "print(unconfirmed_users)"
   ]
  },
  {
   "cell_type": "code",
   "execution_count": 10,
   "metadata": {},
   "outputs": [
    {
     "name": "stdout",
     "output_type": "stream",
     "text": [
      "['candace', 'brian', 'alice']\n"
     ]
    }
   ],
   "source": [
    "print(confirmed_users)"
   ]
  },
  {
   "cell_type": "code",
   "execution_count": 15,
   "metadata": {},
   "outputs": [
    {
     "name": "stdout",
     "output_type": "stream",
     "text": [
      "Confirmed Users :  ['candace', 'brian', 'alice']\n",
      "Unonfirmed Users :  []\n"
     ]
    }
   ],
   "source": [
    "# Moving Items from One List to Another (Using For loop)\n",
    "unconfirmed_users = ['alice', 'brian', 'candace']\n",
    "confirmed_users = []\n",
    "for i in range(len(unconfirmed_users)):\n",
    "    confirmed_users.append(unconfirmed_users.pop())\n",
    "\n",
    "    \n",
    "print(\"Confirmed Users : \",  confirmed_users)\n",
    "print(\"Unonfirmed Users : \",  unconfirmed_users)"
   ]
  },
  {
   "cell_type": "code",
   "execution_count": 17,
   "metadata": {},
   "outputs": [
    {
     "name": "stdout",
     "output_type": "stream",
     "text": [
      "Before removing :  ['dog', 'cat', 'dog', 'goldfish', 'cat', 'rabbit', 'cat']\n",
      "After removing :  ['dog', 'dog', 'goldfish', 'rabbit']\n"
     ]
    }
   ],
   "source": [
    "# Removing All Instances of Specific Values from a List\n",
    "\n",
    "pets = ['dog', 'cat', 'dog', 'goldfish', 'cat', 'rabbit', 'cat']\n",
    "print(\"Before removing : \",pets)\n",
    "\n",
    "while 'cat' in pets:\n",
    "    pets.remove('cat')\n",
    "\n",
    "print(\"After removing : \",pets)"
   ]
  },
  {
   "cell_type": "code",
   "execution_count": 20,
   "metadata": {},
   "outputs": [
    {
     "name": "stdout",
     "output_type": "stream",
     "text": [
      "Enter Your name : aqsa\n",
      "Enter Your Favourite Food : biryani\n",
      "Would you like to submit another response? (yes/no) YES\n",
      "Enter Your name : Sheri\n",
      "Enter Your Favourite Food : Tikka Biryani\n",
      "Would you like to submit another response? (yes/no) yes\n",
      "Enter Your name : Ravi\n",
      "Enter Your Favourite Food : Sabzi\n",
      "Would you like to submit another response? (yes/no) yes\n",
      "Enter Your name : Fahad\n",
      "Enter Your Favourite Food : pizza\n",
      "Would you like to submit another response? (yes/no) no\n",
      "Polling is complete Results are here:\n",
      "aqsa  Likes  biryani\n",
      "Sheri  Likes  Tikka Biryani\n",
      "Ravi  Likes  Sabzi\n",
      "Fahad  Likes  pizza\n"
     ]
    }
   ],
   "source": [
    "# Filling a Dictionary with User Input\n",
    "responses = {}\n",
    "\n",
    "polling_active = True\n",
    "while polling_active:\n",
    "    name = input(\"Enter Your name : \")\n",
    "    response = input(\"Enter Your Favourite Food : \")\n",
    "    \n",
    "    responses[name] = response\n",
    "    \n",
    "    nextperson = input(\"Would you like to submit another response? (yes/no) \")\n",
    "    if nextperson.lower() == 'no':\n",
    "        polling_active = False\n",
    "\n",
    "print(\"Polling is complete Results are here:\")\n",
    "for name,res in responses.items():\n",
    "    print(name,\" Likes \", res)\n",
    "\n"
   ]
  },
  {
   "cell_type": "code",
   "execution_count": 1,
   "metadata": {},
   "outputs": [],
   "source": [
    "from datetime import date\n",
    "def calculateAge(dob):\n",
    "    today = date.today()\n",
    "    return today.year - dob.year - ((today.month, today.day) < (dob.month, dob.day))\n"
   ]
  },
  {
   "cell_type": "code",
   "execution_count": 2,
   "metadata": {},
   "outputs": [
    {
     "data": {
      "text/plain": [
       "21"
      ]
     },
     "execution_count": 2,
     "metadata": {},
     "output_type": "execute_result"
    }
   ],
   "source": [
    "# dob = date(1998,2,4)\n",
    "from datetime import datetime\n",
    "Date_of_birth = \"4 2 1998\"\n",
    "born = datetime.strptime(Date_of_birth, \"%d %m %Y\") \n",
    "calculateAge(born)"
   ]
  },
  {
   "cell_type": "code",
   "execution_count": 21,
   "metadata": {},
   "outputs": [],
   "source": [
    "# Functions \n",
    "def greet():\n",
    "    print(\"Happy birthday\")"
   ]
  },
  {
   "cell_type": "code",
   "execution_count": 22,
   "metadata": {},
   "outputs": [
    {
     "name": "stdout",
     "output_type": "stream",
     "text": [
      "Happy birthday\n"
     ]
    }
   ],
   "source": [
    "greet()"
   ]
  },
  {
   "cell_type": "code",
   "execution_count": 26,
   "metadata": {},
   "outputs": [],
   "source": [
    "# Passing Information to a Function\n",
    "def greet_user(name):\n",
    "    print(\"Happy birthday\", name)"
   ]
  },
  {
   "cell_type": "code",
   "execution_count": 27,
   "metadata": {},
   "outputs": [
    {
     "name": "stdout",
     "output_type": "stream",
     "text": [
      "Happy birthday Sheri\n"
     ]
    }
   ],
   "source": [
    "greet_user(\"Sheri\")"
   ]
  },
  {
   "cell_type": "code",
   "execution_count": 28,
   "metadata": {},
   "outputs": [],
   "source": [
    "#Passing default value to functions\n",
    "def show_message(name='Sheri'):\n",
    "    print(\"Hello\",name)"
   ]
  },
  {
   "cell_type": "code",
   "execution_count": 29,
   "metadata": {},
   "outputs": [
    {
     "name": "stdout",
     "output_type": "stream",
     "text": [
      "Hello Aqsa\n"
     ]
    }
   ],
   "source": [
    "# Calling With parameter\n",
    "show_message(\"Aqsa\")"
   ]
  },
  {
   "cell_type": "code",
   "execution_count": 30,
   "metadata": {},
   "outputs": [
    {
     "name": "stdout",
     "output_type": "stream",
     "text": [
      "Hello Sheri\n"
     ]
    }
   ],
   "source": [
    "show_message()"
   ]
  },
  {
   "cell_type": "code",
   "execution_count": 32,
   "metadata": {},
   "outputs": [],
   "source": [
    "# Return Values\n",
    "# Returning a Simple Value\n",
    "def multiple_of_number(num):\n",
    "    return (num*2)"
   ]
  },
  {
   "cell_type": "code",
   "execution_count": 34,
   "metadata": {},
   "outputs": [
    {
     "name": "stdout",
     "output_type": "stream",
     "text": [
      "4\n"
     ]
    }
   ],
   "source": [
    "print(multiple_of_number(2))"
   ]
  },
  {
   "cell_type": "code",
   "execution_count": 35,
   "metadata": {},
   "outputs": [
    {
     "name": "stdout",
     "output_type": "stream",
     "text": [
      "6\n"
     ]
    }
   ],
   "source": [
    "print(multiple_of_number(3))"
   ]
  },
  {
   "cell_type": "code",
   "execution_count": 36,
   "metadata": {},
   "outputs": [
    {
     "name": "stdout",
     "output_type": "stream",
     "text": [
      "{'first': 'jimi', 'last': 'hendrix'}\n"
     ]
    }
   ],
   "source": [
    "# Returning a Dictionary\n",
    "def build_person(first_name, last_name):\n",
    "    person = {'first': first_name, 'last': last_name}\n",
    "    return person\n",
    "\n",
    "musician = build_person('jimi', 'hendrix')\n",
    "print(musician)\n"
   ]
  },
  {
   "cell_type": "code",
   "execution_count": 2,
   "metadata": {},
   "outputs": [
    {
     "name": "stdout",
     "output_type": "stream",
     "text": [
      "Please tell me your name:\n",
      "First name: muhammad shaheer\n",
      "Last name: khan\n",
      "Hello Muhammad Shaheer Khan\n"
     ]
    }
   ],
   "source": [
    "# Using a Function with a while Loop\n",
    "\n",
    "def get_formatted_name(first_name, last_name):\n",
    "    full_name = first_name + ' ' + last_name\n",
    "    return full_name.title()\n",
    "iteration = True\n",
    "while iteration:\n",
    "    print(\"Please tell me your name:\")\n",
    "    f_name = input(\"First name: \")\n",
    "    l_name = input(\"Last name: \")\n",
    "    formatted_name = get_formatted_name(f_name, l_name)\n",
    "    print(\"Hello\", formatted_name)\n",
    "    iteration = False"
   ]
  },
  {
   "cell_type": "code",
   "execution_count": 8,
   "metadata": {},
   "outputs": [],
   "source": [
    "# Passing a List\n",
    "def greet_all_user(nameslist):\n",
    "    for name in nameslist:\n",
    "        print(\"Hello\", name)"
   ]
  },
  {
   "cell_type": "code",
   "execution_count": 9,
   "metadata": {},
   "outputs": [
    {
     "name": "stdout",
     "output_type": "stream",
     "text": [
      "Hello Sheri\n",
      "Hello Aqsa\n",
      "Hello Ravi\n",
      "Hello Fahad\n"
     ]
    }
   ],
   "source": [
    "names = ['Sheri','Aqsa','Ravi','Fahad']\n",
    "greet_all_user(names)\n"
   ]
  },
  {
   "cell_type": "code",
   "execution_count": 8,
   "metadata": {},
   "outputs": [],
   "source": [
    "# Passing an Arbitrary Number of Arguments\n",
    "def make_pizza(*toppings):\n",
    "     print(list(toppings))\n",
    "#     for topping in toppings:\n",
    "#         print(topping)"
   ]
  },
  {
   "cell_type": "code",
   "execution_count": 9,
   "metadata": {},
   "outputs": [
    {
     "name": "stdout",
     "output_type": "stream",
     "text": [
      "['pepperoni']\n",
      "['mushrooms', 'green peppers', 'extra cheese']\n"
     ]
    }
   ],
   "source": [
    "make_pizza('pepperoni')\n",
    "make_pizza('mushrooms', 'green peppers', 'extra cheese')\n"
   ]
  },
  {
   "cell_type": "code",
   "execution_count": 12,
   "metadata": {},
   "outputs": [],
   "source": [
    "# Storing Your Functions in Modules\n",
    "# Importing an Entire Module\n",
    "# import module_name\n",
    "# module_name.function_name()"
   ]
  },
  {
   "cell_type": "code",
   "execution_count": 13,
   "metadata": {},
   "outputs": [],
   "source": [
    "# Importing Specific Functions\n",
    "# from module_name import function_name\n",
    "# from module_name import function_0, function_1, function_2\n"
   ]
  },
  {
   "cell_type": "code",
   "execution_count": 14,
   "metadata": {},
   "outputs": [],
   "source": [
    "# Using as to Give a Function an Alias\n",
    "# import numpy as np\n",
    "# np.function_name()"
   ]
  },
  {
   "cell_type": "code",
   "execution_count": 15,
   "metadata": {},
   "outputs": [],
   "source": [
    "# Importing All Functions in a Module\n",
    "# from pizza import *"
   ]
  },
  {
   "cell_type": "code",
   "execution_count": 2,
   "metadata": {},
   "outputs": [
    {
     "name": "stdout",
     "output_type": "stream",
     "text": [
      "3.141592653589793\n"
     ]
    }
   ],
   "source": [
    "import math \n",
    "print(math.pi)"
   ]
  },
  {
   "cell_type": "code",
   "execution_count": 8,
   "metadata": {},
   "outputs": [
    {
     "name": "stdout",
     "output_type": "stream",
     "text": [
      "3.141592653589793\n"
     ]
    }
   ],
   "source": [
    "#Open File and Reading File contents \n",
    "with open(\"py_digits.txt\") as file_object:\n",
    "    contents = file_object.read()\n",
    "    print(contents)\n",
    "    file_object.close()\n",
    "    "
   ]
  },
  {
   "cell_type": "code",
   "execution_count": 19,
   "metadata": {},
   "outputs": [
    {
     "name": "stdout",
     "output_type": "stream",
     "text": [
      "http://aarijhussaan.wordpress.com/teachings/ai-cs401/\n"
     ]
    }
   ],
   "source": [
    "# File Paths\n",
    "# If file is on another directory\n",
    "# Relative path\n",
    "with open(\"C:\\\\Users\\\\Public\\\\addresse.txt\") as file_object:\n",
    "    contents = file_object.read()\n",
    "    print(contents)\n",
    "    file_object.close() "
   ]
  },
  {
   "cell_type": "code",
   "execution_count": 3,
   "metadata": {},
   "outputs": [
    {
     "name": "stdout",
     "output_type": "stream",
     "text": [
      "Long ago in Italy there lived on old clock-maker named Geppetto.\n",
      "Tick-tick-TOCK! Tick-tick-TOCK! went all the clocks in his shop.\n",
      "When he worked, Geppetto felt happy. But when he rested, a sad feeling came over him. “Ah!” he would think.\n",
      "“All my life and no child to call my own!”\n",
      "One day Geppetto carved a puppet from wood in the shape of a boy.\n",
      "The arms and legs could move.\n",
      "He cut and sewed a nice outfit for the puppet, as if it were a real boy.\n",
      "\"I will call you Pinocchio,\" said Geppetto.\n",
      "That night, Geppetto lay the wooden puppet down onto the bed.\n",
      "From out of the window, a big star twinkled bright.\n",
      "Geppetto looked out the window to the twinkling star.\n",
      "“Bright star,” said Geppetto.\n",
      "“If I could make one wish, it would be that I could have a real boy of my own.”\n",
      "But of course, he knew that was not possible.\n"
     ]
    }
   ],
   "source": [
    "# Reading Line by Line\n",
    "with open('poem.txt') as poem_object:\n",
    "    for line in poem_object:\n",
    "        print(line.strip())\n",
    "    poem_object.close()"
   ]
  },
  {
   "cell_type": "code",
   "execution_count": 21,
   "metadata": {},
   "outputs": [
    {
     "name": "stdout",
     "output_type": "stream",
     "text": [
      "-> Long ago in Italy there lived on old clock-maker named Geppetto.\n",
      "-> Tick-tick-TOCK! Tick-tick-TOCK! went all the clocks in his shop.\n",
      "-> When he worked, Geppetto felt happy. But when he rested, a sad feeling came over him. “Ah!” he would think.\n",
      "-> “All my life and no child to call my own!”\n",
      "-> One day Geppetto carved a puppet from wood in the shape of a boy.\n",
      "-> The arms and legs could move.\n",
      "-> He cut and sewed a nice outfit for the puppet, as if it were a real boy.\n",
      "-> \"I will call you Pinocchio,\" said Geppetto.\n",
      "-> That night, Geppetto lay the wooden puppet down onto the bed.\n",
      "-> From out of the window, a big star twinkled bright.\n",
      "-> Geppetto looked out the window to the twinkling star.\n",
      "-> “Bright star,” said Geppetto.\n",
      "-> “If I could make one wish, it would be that I could have a real boy of my own.”\n",
      "-> But of course, he knew that was not possible.\n",
      "\n",
      "Total Number of lines : 14\n"
     ]
    }
   ],
   "source": [
    "# Making a List of Lines from a File\n",
    "filename = 'poem.txt'\n",
    "with open(filename) as file_object:\n",
    "    list_of_lines = file_object.readlines()\n",
    "\n",
    "# printing lines from list\n",
    "count=0\n",
    "for line in list_of_lines:\n",
    "    print(\"->\",line.strip())\n",
    "    #count+=1\n",
    "    count = len(list_of_lines)\n",
    "    \n",
    "print('\\nTotal Number of lines :', count)"
   ]
  },
  {
   "cell_type": "code",
   "execution_count": 22,
   "metadata": {},
   "outputs": [
    {
     "data": {
      "text/plain": [
       "'I like tiger'"
      ]
     },
     "execution_count": 22,
     "metadata": {},
     "output_type": "execute_result"
    }
   ],
   "source": [
    "#  the replace() method is used to replace any word in a string with a different word.\n",
    "message = \"I like monkeys\"\n",
    "message.replace('monkeys','tiger')"
   ]
  },
  {
   "cell_type": "code",
   "execution_count": 23,
   "metadata": {},
   "outputs": [
    {
     "name": "stdout",
     "output_type": "stream",
     "text": [
      "I like monkeys\n"
     ]
    }
   ],
   "source": [
    "print(message)"
   ]
  },
  {
   "cell_type": "code",
   "execution_count": 29,
   "metadata": {},
   "outputs": [],
   "source": [
    "# Writing to a File\n",
    "#  The second argument, 'w',tells Python that we want to open the file in write mode. \n",
    "# if file exist it will write in it if file is not exist it will automatically create file\n",
    "# if file contains some text then this program will override the text\n",
    "with open('programming.txt','w') as file_object:\n",
    "    file_object.write(\"I love programming and Python is my favourite language\")\n",
    "    file_object.close()"
   ]
  },
  {
   "cell_type": "code",
   "execution_count": 32,
   "metadata": {},
   "outputs": [],
   "source": [
    "# Writing Multiple Lines into file\n",
    "# 'w',tells Python that we want to open the file in write mode. \n",
    "with open('introduction.txt','w') as file_object:\n",
    "    file_object.write('I like Playing games\\n')\n",
    "    file_object.write('I am fond of watching movies\\n')\n",
    "    \n",
    "    file_object.close()"
   ]
  },
  {
   "cell_type": "code",
   "execution_count": 33,
   "metadata": {},
   "outputs": [],
   "source": [
    "# Appending to a File\n",
    "# If you want to add content to a file instead of overriding content,\n",
    "# you can open the file in append mode. \n",
    "with open('introduction.txt','a') as file_object:\n",
    "    file_object.write('My name is Sheri\\n')\n",
    "    file_object.write('I am 22 years old\\n')\n",
    "    file_object.write('I live in Pakistan\\n')\n",
    "    \n",
    "    file_object.close()"
   ]
  },
  {
   "cell_type": "code",
   "execution_count": 5,
   "metadata": {},
   "outputs": [
    {
     "name": "stdout",
     "output_type": "stream",
     "text": [
      "Enter your name : Sheri\n",
      "Enter your favourite language : Python\n",
      "Do you want to submit another response (yes/no)yes\n",
      "Enter your name : Aqsa\n",
      "Enter your favourite language : Java\n",
      "Do you want to submit another response (yes/no)y\n",
      "Enter your name : Fahad\n",
      "Enter your favourite language : HTML\n",
      "Do you want to submit another response (yes/no)yes\n",
      "Enter your name : Ravi\n",
      "Enter your favourite language : Php\n",
      "Do you want to submit another response (yes/no)no\n"
     ]
    }
   ],
   "source": [
    "# Writning list of users into file\n",
    "flag = True\n",
    "with open('users.txt','w') as file_object:\n",
    "    while flag:\n",
    "        name = input(\"Enter your name : \") \n",
    "        fav_language = input(\"Enter your favourite language : \")\n",
    "        file_object.write(name + \" Likes \")\n",
    "        file_object.write(fav_language+ \" \\n\" )\n",
    "        is_next_response = input(\"Do you want to submit another response (yes/no)\")\n",
    "        if is_next_response.lower() == 'y' or is_next_response.lower() == 'yes':\n",
    "            continue\n",
    "        else:\n",
    "            flag = False\n",
    "            break\n",
    "    file_object.close()"
   ]
  },
  {
   "cell_type": "code",
   "execution_count": 21,
   "metadata": {},
   "outputs": [
    {
     "name": "stdout",
     "output_type": "stream",
     "text": [
      "I live in Pakistan\n",
      "\n",
      "I am 22 years old\n",
      "\n",
      "My name is Sheri\n",
      "\n",
      "I am fond of watching movies\n",
      "\n",
      "I like Playing games\n",
      "\n"
     ]
    }
   ],
   "source": [
    "# Reading File contents in reverse order\n",
    "with open('introduction.txt') as file_object:\n",
    "    for line in reversed(list(file_object)):\n",
    "        print(line)\n",
    "    file_object.close()"
   ]
  },
  {
   "cell_type": "code",
   "execution_count": 1,
   "metadata": {},
   "outputs": [
    {
     "ename": "ZeroDivisionError",
     "evalue": "division by zero",
     "output_type": "error",
     "traceback": [
      "\u001b[1;31m---------------------------------------------------------------------------\u001b[0m",
      "\u001b[1;31mZeroDivisionError\u001b[0m                         Traceback (most recent call last)",
      "\u001b[1;32m<ipython-input-1-ba2a062599ec>\u001b[0m in \u001b[0;36m<module>\u001b[1;34m\u001b[0m\n\u001b[0;32m      1\u001b[0m \u001b[1;31m# Python Exception Handling\u001b[0m\u001b[1;33m\u001b[0m\u001b[1;33m\u001b[0m\u001b[1;33m\u001b[0m\u001b[0m\n\u001b[0;32m      2\u001b[0m \u001b[1;31m# Divide by zero exception\u001b[0m\u001b[1;33m\u001b[0m\u001b[1;33m\u001b[0m\u001b[1;33m\u001b[0m\u001b[0m\n\u001b[1;32m----> 3\u001b[1;33m \u001b[0ma\u001b[0m \u001b[1;33m=\u001b[0m \u001b[1;36m5\u001b[0m\u001b[1;33m/\u001b[0m\u001b[1;36m0\u001b[0m\u001b[1;33m\u001b[0m\u001b[1;33m\u001b[0m\u001b[0m\n\u001b[0m\u001b[0;32m      4\u001b[0m \u001b[0mprint\u001b[0m\u001b[1;33m(\u001b[0m\u001b[0ma\u001b[0m\u001b[1;33m)\u001b[0m\u001b[1;33m\u001b[0m\u001b[1;33m\u001b[0m\u001b[0m\n",
      "\u001b[1;31mZeroDivisionError\u001b[0m: division by zero"
     ]
    }
   ],
   "source": [
    "# Python Exception Handling\n",
    "# Divide by zero exception\n",
    "a = 5/0\n",
    "print(a)"
   ]
  },
  {
   "cell_type": "code",
   "execution_count": 3,
   "metadata": {},
   "outputs": [
    {
     "name": "stdout",
     "output_type": "stream",
     "text": [
      "This is testing Before exception occur\n"
     ]
    },
    {
     "ename": "ZeroDivisionError",
     "evalue": "division by zero",
     "output_type": "error",
     "traceback": [
      "\u001b[1;31m---------------------------------------------------------------------------\u001b[0m",
      "\u001b[1;31mZeroDivisionError\u001b[0m                         Traceback (most recent call last)",
      "\u001b[1;32m<ipython-input-3-c7c06725b0d4>\u001b[0m in \u001b[0;36m<module>\u001b[1;34m\u001b[0m\n\u001b[0;32m      2\u001b[0m \u001b[1;31m# See in this example\u001b[0m\u001b[1;33m\u001b[0m\u001b[1;33m\u001b[0m\u001b[1;33m\u001b[0m\u001b[0m\n\u001b[0;32m      3\u001b[0m \u001b[0mprint\u001b[0m\u001b[1;33m(\u001b[0m\u001b[1;34m\"This is testing Before exception occur\"\u001b[0m\u001b[1;33m)\u001b[0m\u001b[1;33m\u001b[0m\u001b[1;33m\u001b[0m\u001b[0m\n\u001b[1;32m----> 4\u001b[1;33m \u001b[0ma\u001b[0m \u001b[1;33m=\u001b[0m \u001b[1;36m5\u001b[0m\u001b[1;33m/\u001b[0m\u001b[1;36m0\u001b[0m\u001b[1;33m\u001b[0m\u001b[1;33m\u001b[0m\u001b[0m\n\u001b[0m\u001b[0;32m      5\u001b[0m \u001b[0mprint\u001b[0m\u001b[1;33m(\u001b[0m\u001b[0ma\u001b[0m\u001b[1;33m)\u001b[0m\u001b[1;33m\u001b[0m\u001b[1;33m\u001b[0m\u001b[0m\n\u001b[0;32m      6\u001b[0m \u001b[0mprint\u001b[0m\u001b[1;33m(\u001b[0m\u001b[1;34m\"Hello world\"\u001b[0m\u001b[1;33m)\u001b[0m\u001b[1;33m\u001b[0m\u001b[1;33m\u001b[0m\u001b[0m\n",
      "\u001b[1;31mZeroDivisionError\u001b[0m: division by zero"
     ]
    }
   ],
   "source": [
    "# When an exception occurs it will crash program and never exeute other lines of code\n",
    "# See in this example\n",
    "print(\"This is testing Before exception occur\")\n",
    "a = 5/0\n",
    "print(a)\n",
    "print(\"Hello world\")\n",
    "print(\"This is testing when exception occur\")"
   ]
  },
  {
   "cell_type": "code",
   "execution_count": 8,
   "metadata": {},
   "outputs": [
    {
     "name": "stdout",
     "output_type": "stream",
     "text": [
      "You cannot divide any number with zero\n",
      "This is the line after try-except block\n",
      "Instead of exception other lines of code does not crash\n"
     ]
    }
   ],
   "source": [
    "# Using try-except Blocks for exception handling\n",
    "# If the code in a try block works, Python skips over the except block. \n",
    "try:\n",
    "    a=5/0\n",
    "    print(a)\n",
    "except ZeroDivisionError:\n",
    "    print(\"You cannot divide any number with zero\")\n",
    "\n",
    "    \n",
    "print(\"This is the line after try-except block\")\n",
    "print(\"Instead of exception other lines of code does not crash\")"
   ]
  },
  {
   "cell_type": "code",
   "execution_count": 10,
   "metadata": {},
   "outputs": [
    {
     "ename": "FileNotFoundError",
     "evalue": "[Errno 2] No such file or directory: 'hello.txt'",
     "output_type": "error",
     "traceback": [
      "\u001b[1;31m---------------------------------------------------------------------------\u001b[0m",
      "\u001b[1;31mFileNotFoundError\u001b[0m                         Traceback (most recent call last)",
      "\u001b[1;32m<ipython-input-10-cca5e5d96e62>\u001b[0m in \u001b[0;36m<module>\u001b[1;34m\u001b[0m\n\u001b[0;32m      1\u001b[0m \u001b[1;31m# File not Found exception\u001b[0m\u001b[1;33m\u001b[0m\u001b[1;33m\u001b[0m\u001b[1;33m\u001b[0m\u001b[0m\n\u001b[1;32m----> 2\u001b[1;33m \u001b[1;32mwith\u001b[0m \u001b[0mopen\u001b[0m\u001b[1;33m(\u001b[0m\u001b[1;34m\"hello.txt\"\u001b[0m\u001b[1;33m)\u001b[0m \u001b[1;32mas\u001b[0m \u001b[0mfile_objct\u001b[0m\u001b[1;33m:\u001b[0m\u001b[1;33m\u001b[0m\u001b[1;33m\u001b[0m\u001b[0m\n\u001b[0m\u001b[0;32m      3\u001b[0m     \u001b[0mcontents\u001b[0m \u001b[1;33m=\u001b[0m \u001b[0mfile_objct\u001b[0m\u001b[1;33m.\u001b[0m\u001b[0mread\u001b[0m\u001b[1;33m(\u001b[0m\u001b[1;33m)\u001b[0m\u001b[1;33m\u001b[0m\u001b[1;33m\u001b[0m\u001b[0m\n",
      "\u001b[1;31mFileNotFoundError\u001b[0m: [Errno 2] No such file or directory: 'hello.txt'"
     ]
    }
   ],
   "source": [
    "# File not Found exception\n",
    "with open(\"hello.txt\") as file_objct:\n",
    "    contents = file_objct.read()"
   ]
  },
  {
   "cell_type": "code",
   "execution_count": 13,
   "metadata": {},
   "outputs": [
    {
     "name": "stdout",
     "output_type": "stream",
     "text": [
      "Sorry The File doesn't exist\n",
      "Hello Test\n"
     ]
    }
   ],
   "source": [
    "# Handling the FileNotFoundError Exception\n",
    "try:\n",
    "    with open(\"hello.txt\") as file_object:\n",
    "        contents = file_object.read()\n",
    "except FileNotFoundError:\n",
    "    print(\"Sorry The File doesn't exist\")\n",
    "    \n",
    "print(\"Hello Test\")"
   ]
  },
  {
   "cell_type": "code",
   "execution_count": 14,
   "metadata": {},
   "outputs": [
    {
     "data": {
      "text/plain": [
       "['Alice', 'in', 'Wonderland']"
      ]
     },
     "execution_count": 14,
     "metadata": {},
     "output_type": "execute_result"
    }
   ],
   "source": [
    "# The split() method separates a string into parts wherever it finds a space and stores all the parts of the string in a list.\n",
    "title = \"Alice in Wonderland\"\n",
    "title.split() "
   ]
  },
  {
   "cell_type": "code",
   "execution_count": 21,
   "metadata": {},
   "outputs": [
    {
     "name": "stdout",
     "output_type": "stream",
     "text": [
      "Alice in Wonderland\n"
     ]
    }
   ],
   "source": [
    "print(title)"
   ]
  },
  {
   "cell_type": "code",
   "execution_count": 26,
   "metadata": {},
   "outputs": [
    {
     "name": "stdout",
     "output_type": "stream",
     "text": [
      "Total number of words in This file is:  187102\n"
     ]
    }
   ],
   "source": [
    "# Counting the words in file\n",
    "# Else block run when there is no exeception in try block\n",
    "try:\n",
    "    with open(\"python_crash_course.txt\") as file_object:\n",
    "        contents = file_object.read()\n",
    "except FileNotFoundError:\n",
    "    print(\"Sorry the File doesn't exist\")\n",
    "else:\n",
    "    words = contents.split()\n",
    "#     print(contents[:50])\n",
    "    num_words = len(words)\n",
    "    print(\"Total number of words in This file is: \", num_words)"
   ]
  },
  {
   "cell_type": "code",
   "execution_count": 2,
   "metadata": {},
   "outputs": [],
   "source": [
    "# Now we have make function for reading file and count its words.\n",
    "def count_words_of_file(filenameOrPath):\n",
    "    try:\n",
    "        with open(filenameOrPath) as file_object:\n",
    "            contents = file_object.read()\n",
    "    except FileNotFoundError:\n",
    "        print(\"Sorry the File doesn't exist\")\n",
    "    else:\n",
    "        words = contents.split()\n",
    "        num_words = len(words)\n",
    "        print(\"The File \" + filenameOrPath + \" has about \"+ str(num_words) + \" words.\")\n",
    "    \n"
   ]
  },
  {
   "cell_type": "code",
   "execution_count": 4,
   "metadata": {},
   "outputs": [
    {
     "name": "stdout",
     "output_type": "stream",
     "text": [
      "The File poem.txt has about 156 words.\n",
      "The File introduction.txt has about 23 words.\n",
      "The File python_crash_course.txt has about 187102 words.\n",
      "The File programming.txt has about 9 words.\n"
     ]
    }
   ],
   "source": [
    "#  Now we can write a simple loop to count the words in any text file.\n",
    "filenames  = ['poem.txt','introduction.txt','python_crash_course.txt','programming.txt']\n",
    "for filename in filenames:\n",
    "    count_words_of_file(filename)"
   ]
  },
  {
   "cell_type": "code",
   "execution_count": 6,
   "metadata": {},
   "outputs": [],
   "source": [
    "# # you don’t need to report every exception you catch.\n",
    "# Sometimes you’ll want the program to fail silently when an exception occurs\n",
    "# and continue on as if nothing happened. To make a program fail silently, you\n",
    "# write a try block as usual, but you explicitly tell Python to do nothing in the\n",
    "# except block. Python has a pass statement that tells it to do nothing in a block:\n",
    "\n",
    "#try:\n",
    "    #some code\n",
    "#except FileNotFoundError:\n",
    "    #pass\n",
    "#else:\n",
    "    #somecode\n",
    "\n",
    "\n"
   ]
  },
  {
   "cell_type": "code",
   "execution_count": 5,
   "metadata": {},
   "outputs": [
    {
     "name": "stdout",
     "output_type": "stream",
     "text": [
      "Enter first number : 5\n",
      "Enter second number : 3\n",
      "Your have to enter number not string\n"
     ]
    }
   ],
   "source": [
    "a = input(\"Enter first number : \")\n",
    "b = input(\"Enter second number : \")\n",
    "try:\n",
    "    c = (a-b)\n",
    "except TypeError:\n",
    "    print(\"Your have to enter number not string\")\n",
    "else:\n",
    "    print(c)"
   ]
  },
  {
   "cell_type": "code",
   "execution_count": 41,
   "metadata": {},
   "outputs": [],
   "source": [
    "# Using json.dump() and json.load()\n",
    "# Even better,\n",
    "# the JSON data format is not specific to Python, so you can share data you\n",
    "# store in the JSON format with people who work in many other programming\n",
    "# languages. It’s a useful and portable format, and it’s easy to learn.\n",
    "\n",
    "import json\n",
    "numbers = [2, 3, 5, 7, 11, 13]\n",
    "\n",
    "with open('numbers.json','w') as file_object:\n",
    "    json.dump(numbers, file_object)\n"
   ]
  },
  {
   "cell_type": "code",
   "execution_count": 42,
   "metadata": {},
   "outputs": [
    {
     "name": "stdout",
     "output_type": "stream",
     "text": [
      "[2, 3, 5, 7, 11, 13]\n"
     ]
    }
   ],
   "source": [
    "# Now we’ll write a program that uses json.load() to read the list\n",
    "import json\n",
    "with open('numbers.json','r') as f_obj:\n",
    "    numbers = json.load(f_obj)\n",
    "    print(numbers)"
   ]
  },
  {
   "cell_type": "code",
   "execution_count": 7,
   "metadata": {},
   "outputs": [],
   "source": [
    "# Refactoring:\n",
    "# Often, you’ll come to a point where your code will work, \n",
    "# but you’ll recognize that you could improve the code by\n",
    "# breaking it up into a series of functions that have specific jobs. This process is called refactoring. Refactoring\n",
    "# makes your code cleaner, easier to understand, and easier to extend."
   ]
  },
  {
   "cell_type": "markdown",
   "metadata": {},
   "source": [
    "# Chapter 15 Data Visualization"
   ]
  },
  {
   "cell_type": "code",
   "execution_count": 2,
   "metadata": {},
   "outputs": [
    {
     "data": {
      "image/png": "[encoded data removed]",
      "text/plain": [
       "<Figure size 432x288 with 1 Axes>"
      ]
     },
     "metadata": {
      "needs_background": "light"
     },
     "output_type": "display_data"
    }
   ],
   "source": [
    "# Plotting a Simple Line Graph\n",
    "import matplotlib.pyplot as plt\n",
    "squares = [1, 4, 9, 16, 25]\n",
    "plt.plot(squares)\n",
    "plt.show()\n"
   ]
  },
  {
   "cell_type": "code",
   "execution_count": 9,
   "metadata": {},
   "outputs": [
    {
     "data": {
      "image/png": "[encoded data removed]",
      "text/plain": [
       "<Figure size 432x288 with 1 Axes>"
      ]
     },
     "metadata": {
      "needs_background": "light"
     },
     "output_type": "display_data"
    }
   ],
   "source": [
    "# Changing the Label Type and Graph Thickness\n",
    "import matplotlib.pyplot as plt #or from matplotlib import pyplot as plt\n",
    "\n",
    "squares = [1, 4, 9, 16, 25]\n",
    "\n",
    "plt.plot(squares, linewidth=5)\n",
    "\n",
    "# Set chart title and label axes.\n",
    "plt.title(\"Square Numbers\", fontsize=24)\n",
    "plt.xlabel(\"Value\", fontsize=14)\n",
    "plt.ylabel(\"Square of Value\", fontsize=14)\n",
    "\n",
    "# Set size of tick labels.\n",
    "plt.tick_params(axis='both', labelsize=14)\n",
    "plt.show()\n"
   ]
  },
  {
   "cell_type": "code",
   "execution_count": 10,
   "metadata": {},
   "outputs": [
    {
     "data": {
      "image/png": "[encoded data removed]",
      "text/plain": [
       "<Figure size 432x288 with 1 Axes>"
      ]
     },
     "metadata": {
      "needs_background": "light"
     },
     "output_type": "display_data"
    }
   ],
   "source": [
    "import matplotlib.pyplot as plt\n",
    "\n",
    "input_values = [1, 2, 3, 4, 5]\n",
    "squares = [1, 4, 9, 16, 25]\n",
    "\n",
    "plt.plot(input_values, squares, linewidth=5)\n",
    "\n",
    "# Set chart title and label axes.\n",
    "plt.title(\"Square Numbers\", fontsize=24)\n",
    "plt.xlabel(\"Value\", fontsize=14)\n",
    "plt.ylabel(\"Square of Value\", fontsize=14)\n",
    "\n",
    "# Set size of tick labels.\n",
    "plt.tick_params(axis='both', labelsize=14)\n",
    "plt.show()\n"
   ]
  },
  {
   "cell_type": "code",
   "execution_count": 11,
   "metadata": {},
   "outputs": [
    {
     "data": {
      "image/png": "[encoded data removed]",
      "text/plain": [
       "<Figure size 432x288 with 1 Axes>"
      ]
     },
     "metadata": {
      "needs_background": "light"
     },
     "output_type": "display_data"
    }
   ],
   "source": [
    "# Plotting and Styling Individual Points with scatter()\n",
    "# To plot a single point, use the scatter() function. Pass the single (x, y)\n",
    "# values of the point of interest to scatter(), and it should plot those values\n",
    "\n",
    "from matplotlib import pyplot as plt\n",
    "plt.scatter(2, 4)\n",
    "plt.show()"
   ]
  },
  {
   "cell_type": "code",
   "execution_count": 12,
   "metadata": {},
   "outputs": [
    {
     "data": {
      "image/png": "[encoded data removed]",
      "text/plain": [
       "<Figure size 432x288 with 1 Axes>"
      ]
     },
     "metadata": {
      "needs_background": "light"
     },
     "output_type": "display_data"
    }
   ],
   "source": [
    "# Let’s style the output to make it more interesting\n",
    "import matplotlib.pyplot as plt\n",
    "\n",
    "plt.scatter(2, 4, s=200)\n",
    "\n",
    "# Set chart title and label axes.\n",
    "plt.title(\"Square Numbers\", fontsize=24)\n",
    "plt.xlabel(\"Value\", fontsize=14)\n",
    "plt.ylabel(\"Square of Value\", fontsize=14)\n",
    "\n",
    "# Set size of tick labels.\n",
    "plt.tick_params(axis='both', which='major', labelsize=14)\n",
    "plt.show()"
   ]
  },
  {
   "cell_type": "code",
   "execution_count": 16,
   "metadata": {},
   "outputs": [
    {
     "data": {
      "image/png": "[encoded data removed]",
      "text/plain": [
       "<Figure size 432x288 with 1 Axes>"
      ]
     },
     "metadata": {
      "needs_background": "light"
     },
     "output_type": "display_data"
    }
   ],
   "source": [
    "# Plotting a Series of Points with scatter()\n",
    "\n",
    "import matplotlib.pyplot as plt\n",
    "\n",
    "x_values = [1, 2, 3, 4, 5]\n",
    "y_values = [1, 4, 9, 16, 25]\n",
    "#s=100 is the size of points/dots\n",
    "plt.scatter(x_values, y_values,edgecolors='none' , s=200)\n",
    "\n",
    "plt.xlabel(\"Values\")\n",
    "plt.ylabel(\"Square of value\")\n",
    "\n",
    "plt.show()\n"
   ]
  },
  {
   "cell_type": "code",
   "execution_count": 14,
   "metadata": {},
   "outputs": [
    {
     "data": {
      "image/png": "[encoded data removed]",
      "text/plain": [
       "<Figure size 432x288 with 1 Axes>"
      ]
     },
     "metadata": {
      "needs_background": "light"
     },
     "output_type": "display_data"
    }
   ],
   "source": [
    "# Calculating Data Automatically\n",
    "\n",
    "import matplotlib.pyplot as plt\n",
    "\n",
    "x_values = list(range(1, 1001))\n",
    "y_values = [x**2 for x in x_values]\n",
    "\n",
    "plt.scatter(x_values, y_values, s=40)\n",
    "\n",
    "# Set the range for each axis.\n",
    "# The axis() function\n",
    "# requires four values: the minimum and maximum values for the x-axis and\n",
    "# the y-axis. Here, we run the x-axis from 0 to 1100 and the y-axis from 0 to 1,100,000. \n",
    "\n",
    "plt.axis([0, 1100, 0, 1100000])\n",
    "plt.show()"
   ]
  },
  {
   "cell_type": "code",
   "execution_count": 17,
   "metadata": {},
   "outputs": [
    {
     "data": {
      "text/plain": [
       "<matplotlib.collections.PathCollection at 0x8a12c88>"
      ]
     },
     "execution_count": 17,
     "metadata": {},
     "output_type": "execute_result"
    },
    {
     "data": {
      "image/png": "[encoded data removed]",
      "text/plain": [
       "<Figure size 432x288 with 1 Axes>"
      ]
     },
     "metadata": {
      "needs_background": "light"
     },
     "output_type": "display_data"
    }
   ],
   "source": [
    "# Removing Outlines from Data Points\n",
    "plt.scatter(x_values, y_values, edgecolor='none', s=40)"
   ]
  },
  {
   "cell_type": "code",
   "execution_count": 22,
   "metadata": {},
   "outputs": [
    {
     "data": {
      "text/plain": [
       "<matplotlib.collections.PathCollection at 0x8957128>"
      ]
     },
     "execution_count": 22,
     "metadata": {},
     "output_type": "execute_result"
    },
    {
     "data": {
      "image/png": "[encoded data removed]",
      "text/plain": [
       "<Figure size 432x288 with 1 Axes>"
      ]
     },
     "metadata": {
      "needs_background": "light"
     },
     "output_type": "display_data"
    }
   ],
   "source": [
    "# Defining Custom Colors\n",
    "plt.scatter(x_values, y_values, c='red', edgecolor='none', s=40)\n"
   ]
  },
  {
   "cell_type": "code",
   "execution_count": 30,
   "metadata": {},
   "outputs": [
    {
     "data": {
      "image/png": "[encoded data removed]",
      "text/plain": [
       "<Figure size 432x288 with 1 Axes>"
      ]
     },
     "metadata": {
      "needs_background": "light"
     },
     "output_type": "display_data"
    }
   ],
   "source": [
    "# Saving Your Plots Automatically\n",
    "\n",
    "import matplotlib.pyplot as plt\n",
    "\n",
    "x_values = list(range(1, 1001))\n",
    "y_values = [x**2 for x in x_values]\n",
    "\n",
    "plt.scatter(x_values, y_values, s=40)\n",
    "\n",
    "plt.axis([0, 1100, 0, 1100000])\n",
    "plt.savefig('simple_increasing_graph.png', bbox_inches='tight')\n",
    "plt.show()\n"
   ]
  },
  {
   "cell_type": "markdown",
   "metadata": {},
   "source": [
    "# now we’ll use the Python visualization package Pygal to produce\n",
    "# scalable vector graphics files. These are useful in visualizations that are\n",
    "# presented on differently sized screens because they scale automatically to\n",
    "# fit the viewer’s screen. If you plan to use your visualizations online, consider\n",
    "# using Pygal so your work will look good on any device people use to view\n",
    "# your visualizations"
   ]
  },
  {
   "cell_type": "code",
   "execution_count": 35,
   "metadata": {},
   "outputs": [],
   "source": [
    "from random import randint\n",
    "class Die():\n",
    "    def __init__(self,num_sides=6):\n",
    "        self.num_sides = num_sides\n",
    "    \n",
    "    def roll(self):\n",
    "        return randint(1,self.num_sides)\n",
    "\n",
    "# dice = Die()\n",
    "# num  = dice.roll()\n",
    "# print(num)"
   ]
  },
  {
   "cell_type": "code",
   "execution_count": 36,
   "metadata": {},
   "outputs": [
    {
     "name": "stdout",
     "output_type": "stream",
     "text": [
      "100\n"
     ]
    }
   ],
   "source": [
    "responses = []\n",
    "# if we have a dice which has 8 sides so we pass 8\n",
    "dice = Die(6)\n",
    "for i in range(100):\n",
    "    result = dice.roll()\n",
    "    responses.append(result)\n",
    "    \n",
    "print(len(responses))"
   ]
  },
  {
   "cell_type": "code",
   "execution_count": 37,
   "metadata": {},
   "outputs": [
    {
     "name": "stdout",
     "output_type": "stream",
     "text": [
      "[2, 6, 3, 3, 4, 1, 3, 6, 3, 2, 3, 5, 4, 5, 3, 2, 2, 6, 1, 5, 6, 3, 5, 5, 3, 1, 6, 5, 6, 5, 5, 2, 1, 4, 3, 1, 1, 6, 2, 1, 1, 4, 3, 5, 2, 2, 4, 2, 5, 4, 6, 4, 5, 4, 3, 5, 3, 1, 4, 1, 1, 4, 1, 1, 6, 3, 5, 5, 6, 2, 4, 5, 4, 5, 5, 5, 6, 4, 6, 3, 2, 5, 5, 1, 2, 3, 2, 6, 2, 3, 5, 2, 6, 3, 1, 2, 1, 3, 1, 3]\n"
     ]
    }
   ],
   "source": [
    "print(responses)"
   ]
  },
  {
   "cell_type": "code",
   "execution_count": 40,
   "metadata": {},
   "outputs": [
    {
     "name": "stdout",
     "output_type": "stream",
     "text": [
      "1\n",
      "2\n",
      "3\n",
      "4\n",
      "5\n",
      "6\n"
     ]
    }
   ],
   "source": [
    "# Analyzing the Results\n",
    "#    We analyze the results of rolling one D6 by counting how many times we roll each number:\n",
    "for value in range(1,dice.num_sides+1):\n",
    "    print(value)"
   ]
  },
  {
   "cell_type": "code",
   "execution_count": null,
   "metadata": {},
   "outputs": [],
   "source": []
  }
 ],
 "metadata": {
  "kernelspec": {
   "display_name": "Python 3",
   "language": "python",
   "name": "python3"
  },
  "language_info": {
   "codemirror_mode": {
    "name": "ipython",
    "version": 3
   },
   "file_extension": ".py",
   "mimetype": "text/x-python",
   "name": "python",
   "nbconvert_exporter": "python",
   "pygments_lexer": "ipython3",
   "version": "3.7.1"
  }
 },
 "nbformat": 4,
 "nbformat_minor": 2
}
