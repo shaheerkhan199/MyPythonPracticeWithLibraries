{
 "cells": [
  {
   "cell_type": "code",
   "execution_count": 1,
   "metadata": {},
   "outputs": [],
   "source": [
    "# Class \n",
    "# Constructor\n",
    "# Method\n",
    "# Object"
   ]
  },
  {
   "cell_type": "code",
   "execution_count": 19,
   "metadata": {},
   "outputs": [],
   "source": [
    "class Car():\n",
    "    def __init__(self,name): #This is Constructor\n",
    "        self.name = name\n",
    "    def running(self):\n",
    "        print(\"car is running\")\n",
    "    \n",
    "    def stop(self):\n",
    "        print(\"car is now stop\")\n",
    "        \n",
    "    def printNameOfCar(self):\n",
    "        print(self.name)\n",
    "             \n",
    "#             int a;\n",
    "#             public function Car(int name)\n",
    "#             {\n",
    "#                 this.a = name;\n",
    "#             }"
   ]
  },
  {
   "cell_type": "code",
   "execution_count": 20,
   "metadata": {},
   "outputs": [
    {
     "name": "stdout",
     "output_type": "stream",
     "text": [
      "car is running\n"
     ]
    }
   ],
   "source": [
    "c = Car(\"Land Cruiser\") #This is Object\n",
    "c.running()"
   ]
  },
  {
   "cell_type": "code",
   "execution_count": 21,
   "metadata": {},
   "outputs": [
    {
     "name": "stdout",
     "output_type": "stream",
     "text": [
      "car is now stop\n"
     ]
    }
   ],
   "source": [
    "c.stop()"
   ]
  },
  {
   "cell_type": "code",
   "execution_count": 22,
   "metadata": {},
   "outputs": [
    {
     "name": "stdout",
     "output_type": "stream",
     "text": [
      "Land Cruiser\n"
     ]
    }
   ],
   "source": [
    "c.printNameOfCar()"
   ]
  },
  {
   "cell_type": "code",
   "execution_count": 76,
   "metadata": {},
   "outputs": [],
   "source": [
    "# Person Class\n",
    "from datetime import datetime\n",
    "class Person():\n",
    "    def __init__(self,firstName,lastName,dob,email,city):\n",
    "        self.firstName = firstName\n",
    "        self.lastName = lastName\n",
    "        self.dob = dob\n",
    "        self.email = email\n",
    "        self.city = city\n",
    "        \n",
    "    def getFullName(self):\n",
    "        fullName = self.firstName+\" \"+self.lastName\n",
    "        return fullName.title()\n",
    "    \n",
    "    def getFullDetails(self):\n",
    "        print(self.getFullName())\n",
    "        print(self.dob)\n",
    "        print(self.email)\n",
    "        print(self.city)\n",
    "        "
   ]
  },
  {
   "cell_type": "code",
   "execution_count": 83,
   "metadata": {},
   "outputs": [],
   "source": [
    "p = Person(\"M.Shaheer\",\"khan\",\"4/2/1998\",\"m.shaheerkhan199@gmail.com\",\"Karachi\")"
   ]
  },
  {
   "cell_type": "code",
   "execution_count": 84,
   "metadata": {},
   "outputs": [
    {
     "name": "stdout",
     "output_type": "stream",
     "text": [
      "M.Shaheer Khan\n"
     ]
    }
   ],
   "source": [
    "print(p.getFullName())"
   ]
  },
  {
   "cell_type": "code",
   "execution_count": 85,
   "metadata": {},
   "outputs": [
    {
     "name": "stdout",
     "output_type": "stream",
     "text": [
      "M.Shaheer Khan\n",
      "4/2/1998\n",
      "m.shaheerkhan199@gmail.com\n",
      "Karachi\n"
     ]
    }
   ],
   "source": [
    "p.getFullDetails()"
   ]
  },
  {
   "cell_type": "code",
   "execution_count": 2,
   "metadata": {},
   "outputs": [],
   "source": [
    "class Bike():\n",
    "    def __init__(self,name,model,color):\n",
    "        self.name = name\n",
    "        self.model = model\n",
    "        self.color = color\n",
    "        self.odometerReading = 0\n",
    "    \n",
    "    def getBikeDetails(self):\n",
    "        print(self.name)\n",
    "        print(self.model)\n",
    "        print(self.color)\n",
    "        print(\"This car has \" + str(self.odometerReading) + \" miles on it.\")\n",
    "    \n",
    "    def updateOdometer(self,miles):\n",
    "        self.odometerReading += miles\n",
    "    \n",
    "    def run(self):\n",
    "        print(self.name + \" is running\")\n",
    "    \n",
    "    def stop(self):\n",
    "        print(self.name + \" is now stop\")\n",
    "    \n",
    "        "
   ]
  },
  {
   "cell_type": "code",
   "execution_count": 3,
   "metadata": {},
   "outputs": [],
   "source": [
    "b = Bike(\"Unique\",\"2015\",\"black\")"
   ]
  },
  {
   "cell_type": "code",
   "execution_count": 4,
   "metadata": {},
   "outputs": [
    {
     "name": "stdout",
     "output_type": "stream",
     "text": [
      "Unique\n",
      "2015\n",
      "black\n",
      "This car has 0 miles on it.\n"
     ]
    }
   ],
   "source": [
    "b.getBikeDetails()"
   ]
  },
  {
   "cell_type": "code",
   "execution_count": 5,
   "metadata": {},
   "outputs": [
    {
     "name": "stdout",
     "output_type": "stream",
     "text": [
      "Unique is running\n"
     ]
    }
   ],
   "source": [
    "b.run()"
   ]
  },
  {
   "cell_type": "code",
   "execution_count": 6,
   "metadata": {},
   "outputs": [],
   "source": [
    "b.updateOdometer(2500)"
   ]
  },
  {
   "cell_type": "code",
   "execution_count": 7,
   "metadata": {},
   "outputs": [
    {
     "name": "stdout",
     "output_type": "stream",
     "text": [
      "Unique is now stop\n"
     ]
    }
   ],
   "source": [
    "b.stop()"
   ]
  },
  {
   "cell_type": "code",
   "execution_count": 8,
   "metadata": {},
   "outputs": [
    {
     "name": "stdout",
     "output_type": "stream",
     "text": [
      "Unique\n",
      "2015\n",
      "black\n",
      "This car has 2500 miles on it.\n"
     ]
    }
   ],
   "source": [
    "b.getBikeDetails()"
   ]
  },
  {
   "cell_type": "code",
   "execution_count": 22,
   "metadata": {},
   "outputs": [],
   "source": [
    "class Sport_Bike(Bike):\n",
    "    def __init__(self,name,model,color,maxSpeed):\n",
    "        self.maxSpeed = maxSpeed\n",
    "        super().__init__(name,model,color)\n",
    "    def onTurbo():\n",
    "        print(self.name+\" is running in turbo mode\")\n",
    "    \n",
    "    def getmaxSpeed(self):\n",
    "        print(self.name , \" Max speed is :\", self.maxSpeed)"
   ]
  },
  {
   "cell_type": "code",
   "execution_count": 23,
   "metadata": {},
   "outputs": [],
   "source": [
    "sp = Sport_Bike(\"Davidson\",\"1998\",\"Black\",500)"
   ]
  },
  {
   "cell_type": "code",
   "execution_count": 24,
   "metadata": {},
   "outputs": [
    {
     "name": "stdout",
     "output_type": "stream",
     "text": [
      "Davidson\n",
      "1998\n",
      "Black\n",
      "This car has 0 miles on it.\n"
     ]
    }
   ],
   "source": [
    "sp.getBikeDetails()"
   ]
  },
  {
   "cell_type": "code",
   "execution_count": 25,
   "metadata": {},
   "outputs": [
    {
     "name": "stdout",
     "output_type": "stream",
     "text": [
      "Davidson is running\n"
     ]
    }
   ],
   "source": [
    "sp.run()"
   ]
  },
  {
   "cell_type": "code",
   "execution_count": 26,
   "metadata": {},
   "outputs": [
    {
     "name": "stdout",
     "output_type": "stream",
     "text": [
      "Davidson  Max speed is : 500\n"
     ]
    }
   ],
   "source": [
    "sp.getmaxSpeed()"
   ]
  },
  {
   "cell_type": "code",
   "execution_count": 35,
   "metadata": {},
   "outputs": [],
   "source": [
    "# Book Exercise of Inheritance\n",
    "class User():\n",
    "    def __init__(self,firstName,lastName):\n",
    "        self.firstName = firstName\n",
    "        self.lastName = lastName\n",
    "        self.fullName = self.firstName + \" \" + self.lastName\n",
    "    def describe_user(self):\n",
    "        print(\"User name is : \", self.fullName)\n",
    "    def greet_user(self):\n",
    "        print(\"Hello \", self.fullName)\n",
    "    "
   ]
  },
  {
   "cell_type": "code",
   "execution_count": 36,
   "metadata": {},
   "outputs": [
    {
     "name": "stdout",
     "output_type": "stream",
     "text": [
      "User name is :  Imran khan\n"
     ]
    }
   ],
   "source": [
    "u = User(\"Imran\",\"khan\")\n",
    "u.describe_user()"
   ]
  },
  {
   "cell_type": "code",
   "execution_count": 37,
   "metadata": {},
   "outputs": [
    {
     "name": "stdout",
     "output_type": "stream",
     "text": [
      "Hello  Imran khan\n"
     ]
    }
   ],
   "source": [
    "u.greet_user()"
   ]
  },
  {
   "cell_type": "code",
   "execution_count": 51,
   "metadata": {},
   "outputs": [],
   "source": [
    "class Admin(User):\n",
    "    def __init__(self,firstName,lastName):\n",
    "        self.privileges = [\"can add post\", \"can delete post\", \"can ban user\"]\n",
    "        super().__init__(firstName,lastName)\n",
    "    def show_priviliges(self):\n",
    "        for privilige in self.privileges:\n",
    "            print(\"Admin\", privilige)"
   ]
  },
  {
   "cell_type": "code",
   "execution_count": 52,
   "metadata": {},
   "outputs": [],
   "source": [
    "admin_user = Admin(\"Shaheer\",\"khan\")"
   ]
  },
  {
   "cell_type": "code",
   "execution_count": 53,
   "metadata": {},
   "outputs": [
    {
     "name": "stdout",
     "output_type": "stream",
     "text": [
      "User name is :  Shaheer khan\n"
     ]
    }
   ],
   "source": [
    "admin_user.describe_user()"
   ]
  },
  {
   "cell_type": "code",
   "execution_count": 54,
   "metadata": {},
   "outputs": [
    {
     "name": "stdout",
     "output_type": "stream",
     "text": [
      "Admin can add post\n",
      "Admin can delete post\n",
      "Admin can ban user\n"
     ]
    }
   ],
   "source": [
    "admin_user.show_priviliges()"
   ]
  },
  {
   "cell_type": "code",
   "execution_count": null,
   "metadata": {},
   "outputs": [],
   "source": []
  }
 ],
 "metadata": {
  "kernelspec": {
   "display_name": "Python 3",
   "language": "python",
   "name": "python3"
  },
  "language_info": {
   "codemirror_mode": {
    "name": "ipython",
    "version": 3
   },
   "file_extension": ".py",
   "mimetype": "text/x-python",
   "name": "python",
   "nbconvert_exporter": "python",
   "pygments_lexer": "ipython3",
   "version": "3.7.1"
  }
 },
 "nbformat": 4,
 "nbformat_minor": 2
}
